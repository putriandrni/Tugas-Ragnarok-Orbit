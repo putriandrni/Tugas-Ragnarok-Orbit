{
 "cells": [
  {
   "cell_type": "markdown",
   "id": "af85f40b",
   "metadata": {},
   "source": [
    "# Module 2: Data Analytics with Python - Statistics"
   ]
  },
  {
   "cell_type": "markdown",
   "id": "51e8addb",
   "metadata": {},
   "source": [
    "## Lab 1: Basic statistics & Linear Algebra"
   ]
  },
  {
   "cell_type": "markdown",
   "id": "703b3701",
   "metadata": {},
   "source": [
    "## Numpy "
   ]
  },
  {
   "cell_type": "markdown",
   "id": "749459d4",
   "metadata": {},
   "source": [
    "NumPy is short for \"Numerical Python\". It is used to work with arrays. In Python we have lists that serve the purpose of arrays, but they are slow to process. NumPy aims to provide an array object that is twice faster then traditional Python lists."
   ]
  },
  {
   "cell_type": "markdown",
   "id": "c5fed961",
   "metadata": {},
   "source": [
    "## Scipy"
   ]
  },
  {
   "cell_type": "markdown",
   "id": "ceb1bdfe",
   "metadata": {},
   "source": [
    "SciPy is a free and open-source Python library used for scientific computing and technical computing. SciPy contains modules for optimization, linear algebra, integration, interpolation, special functions, FFT, signal and image processing, ODE solvers and other tasks common in science and engineering."
   ]
  },
  {
   "cell_type": "code",
   "execution_count": 1,
   "id": "0e047030",
   "metadata": {},
   "outputs": [
    {
     "name": "stdout",
     "output_type": "stream",
     "text": [
      "Requirement already satisfied: numpy in c:\\users\\putri\\anaconda3\\lib\\site-packages (1.20.1)\n",
      "Requirement already satisfied: scipy in c:\\users\\putri\\anaconda3\\lib\\site-packages (1.6.2)\n",
      "Requirement already satisfied: numpy<1.23.0,>=1.16.5 in c:\\users\\putri\\anaconda3\\lib\\site-packages (from scipy) (1.20.1)\n"
     ]
    }
   ],
   "source": [
    "import sys\n",
    "\n",
    "# run this cell to install numpy\n",
    "!{sys.executable} -m pip install numpy\n",
    "\n",
    "# run this cell to install scipy\n",
    "!{sys.executable} -m pip install scipy"
   ]
  },
  {
   "cell_type": "code",
   "execution_count": 2,
   "id": "ebf47850",
   "metadata": {},
   "outputs": [],
   "source": [
    "import sys\n",
    "import scipy"
   ]
  },
  {
   "cell_type": "markdown",
   "id": "1d349544",
   "metadata": {},
   "source": [
    "## Objective"
   ]
  },
  {
   "cell_type": "markdown",
   "id": "e404680a",
   "metadata": {},
   "source": [
    "* Measures of Central Tendency\n",
    "    - Mean\n",
    "    - Median\n",
    "    - Mode\n",
    "* Measures Of Spread\n",
    "    - Range\n",
    "    - Quartiles and Interquartile range\n",
    "    - Percentile\n",
    "    - Variance\n",
    "    - Standard deviation\n",
    "* Correlation v/s Causation\n",
    "* Kurtosis\n",
    "* Skewness\n",
    "* Eigen Vectors"
   ]
  },
  {
   "cell_type": "code",
   "execution_count": 16,
   "id": "192b3f05",
   "metadata": {},
   "outputs": [],
   "source": [
    "import numpy as np\n",
    "\n",
    "# Creating a Basic Array in Numpy\n",
    "X=np.array([1,2,3,5,5])"
   ]
  },
  {
   "cell_type": "markdown",
   "id": "e89bfbfb",
   "metadata": {},
   "source": [
    "## Measures of Central Tendency "
   ]
  },
  {
   "cell_type": "markdown",
   "id": "8e99e813",
   "metadata": {},
   "source": [
    "The measure of central tendency is the commonly used method to identify the centre of the data set. Used to describe a data set by identifying the central position within that data set.\n",
    "\n",
    "Mean, Median and Mode"
   ]
  },
  {
   "cell_type": "markdown",
   "id": "0433b74d",
   "metadata": {},
   "source": [
    "## Mean "
   ]
  },
  {
   "cell_type": "markdown",
   "id": "188c378a",
   "metadata": {},
   "source": [
    "The most popular measure of central tendency. ​ It is also referred to as the average value in the data set. ​Defined as the sum of all values in a data set, divided by the total number of values in a data set.​"
   ]
  },
  {
   "cell_type": "code",
   "execution_count": 17,
   "id": "0a676af5",
   "metadata": {},
   "outputs": [
    {
     "name": "stdout",
     "output_type": "stream",
     "text": [
      "Data [1 2 3 5 5]\n",
      "Mean: 3.2\n"
     ]
    }
   ],
   "source": [
    "# Mean using Numpy\n",
    "print(\"Data\",X)\n",
    "print(\"Mean:\",np.mean(X))"
   ]
  },
  {
   "cell_type": "markdown",
   "id": "ec55d412",
   "metadata": {},
   "source": [
    "## Median"
   ]
  },
  {
   "cell_type": "markdown",
   "id": "735b42d2",
   "metadata": {},
   "source": [
    "Median is the middle value of an ordered data set. If there are a total of n values."
   ]
  },
  {
   "cell_type": "code",
   "execution_count": 18,
   "id": "38e9cfb2",
   "metadata": {},
   "outputs": [
    {
     "name": "stdout",
     "output_type": "stream",
     "text": [
      "Data [1 2 3 5 5]\n",
      "Median 3.0\n"
     ]
    }
   ],
   "source": [
    "# Finding Median of X\n",
    "print(\"Data\",X)\n",
    "print(\"Median\",np.median(X))"
   ]
  },
  {
   "cell_type": "markdown",
   "id": "b612cb6b",
   "metadata": {},
   "source": [
    "## Mode"
   ]
  },
  {
   "cell_type": "markdown",
   "id": "d9e6d4ea",
   "metadata": {},
   "source": [
    "1. Most frequently occurring value in the data set, i.e. value of the random sample that occurs with the greatest frequency.\n",
    "2. It is applicable to all levels of data measurement, i.e., nominal, ordinal, interval and ratio scales."
   ]
  },
  {
   "cell_type": "code",
   "execution_count": 19,
   "id": "b1158837",
   "metadata": {},
   "outputs": [
    {
     "data": {
      "text/plain": [
       "(array([1, 2, 3, 5]), array([1, 1, 1, 2], dtype=int64))"
      ]
     },
     "execution_count": 19,
     "metadata": {},
     "output_type": "execute_result"
    }
   ],
   "source": [
    "np.unique(X, return_counts=True)"
   ]
  },
  {
   "cell_type": "code",
   "execution_count": 20,
   "id": "a7a04d9c",
   "metadata": {},
   "outputs": [
    {
     "name": "stdout",
     "output_type": "stream",
     "text": [
      "Data [1 2 3 5 5]\n"
     ]
    },
    {
     "data": {
      "text/plain": [
       "(array([1, 2, 3, 5]), array([1, 1, 1, 2], dtype=int64))"
      ]
     },
     "execution_count": 20,
     "metadata": {},
     "output_type": "execute_result"
    }
   ],
   "source": [
    "# Finding Mode using numpy\n",
    "print(\"Data\",X)\n",
    "val, count = np.unique(X, return_counts=True)\n",
    "val, count"
   ]
  },
  {
   "cell_type": "code",
   "execution_count": 21,
   "id": "4fe58861",
   "metadata": {},
   "outputs": [
    {
     "data": {
      "text/plain": [
       "array([1, 1, 1, 2], dtype=int64)"
      ]
     },
     "execution_count": 21,
     "metadata": {},
     "output_type": "execute_result"
    }
   ],
   "source": [
    "count"
   ]
  },
  {
   "cell_type": "code",
   "execution_count": 22,
   "id": "ee8f05e5",
   "metadata": {},
   "outputs": [
    {
     "name": "stdout",
     "output_type": "stream",
     "text": [
      "Index:  3\n",
      "Mode numpy: 5\n"
     ]
    }
   ],
   "source": [
    "index = np.argmax(count)\n",
    "print(\"Index: \", index)\n",
    "print(\"Mode numpy:\",val[index])"
   ]
  },
  {
   "cell_type": "code",
   "execution_count": 23,
   "id": "59b5fc67",
   "metadata": {},
   "outputs": [
    {
     "name": "stdout",
     "output_type": "stream",
     "text": [
      "Mode scipy: ModeResult(mode=array([5]), count=array([2]))\n"
     ]
    }
   ],
   "source": [
    "# Finding Mode using Scipy\n",
    "\n",
    "from scipy import stats\n",
    "\n",
    "print(\"Mode scipy:\",stats.mode(X))\n",
    "modus = stats.mode(X)"
   ]
  },
  {
   "cell_type": "code",
   "execution_count": 24,
   "id": "16dfa015",
   "metadata": {},
   "outputs": [
    {
     "data": {
      "text/plain": [
       "ModeResult(mode=array([5]), count=array([2]))"
      ]
     },
     "execution_count": 24,
     "metadata": {},
     "output_type": "execute_result"
    }
   ],
   "source": [
    "modus"
   ]
  },
  {
   "cell_type": "markdown",
   "id": "12767e7e",
   "metadata": {},
   "source": [
    "## Measures of Spread "
   ]
  },
  {
   "cell_type": "markdown",
   "id": "2a8b9af6",
   "metadata": {},
   "source": [
    "A measure of how the data is dispersed or spread around the mean, i.e. the average. It is used in quantitative data, as the variables can be arranged in a logical order, with a low and high value.\n",
    "\n",
    "Spread can be measured in-\n",
    "\n",
    "1. Range\n",
    "2. Quartiles and Interquartile range\n",
    "3. Percentile\n",
    "4. Variance\n",
    "5. Standard deviation"
   ]
  },
  {
   "cell_type": "markdown",
   "id": "82154089",
   "metadata": {},
   "source": [
    "## Range"
   ]
  },
  {
   "cell_type": "markdown",
   "id": "e910729f",
   "metadata": {},
   "source": [
    "It is the simplest measure of variability. \n",
    "The distance between the smallest value and the largest value in a dataset. "
   ]
  },
  {
   "cell_type": "code",
   "execution_count": 25,
   "id": "cbb37022",
   "metadata": {},
   "outputs": [
    {
     "name": "stdout",
     "output_type": "stream",
     "text": [
      "Data  [1 2 3 5 5]\n",
      "Range  4\n"
     ]
    }
   ],
   "source": [
    "# Calculating the Range\n",
    "print(\"Data \",X)\n",
    "print(\"Range \",X.max()-X.min())"
   ]
  },
  {
   "cell_type": "markdown",
   "id": "54b108c4",
   "metadata": {},
   "source": [
    "## QUARTILES AND IQR (Interquartile Range)"
   ]
  },
  {
   "cell_type": "markdown",
   "id": "f3fb6604",
   "metadata": {},
   "source": [
    "1. Q1 is the \"middle\" value in the first half of the rank-ordered data set.\n",
    "2. Q2 is the median value in the set.\n",
    "3. Q3 is the \"middle\" value in the second half of the rank-ordered data set.\n",
    "4. The interquartile range is calculated as: Upper Quartile – Lower Quartile."
   ]
  },
  {
   "cell_type": "code",
   "execution_count": 26,
   "id": "35b22066",
   "metadata": {},
   "outputs": [
    {
     "name": "stdout",
     "output_type": "stream",
     "text": [
      "Data [ 1  3  4  5  5  6  7 11]\n",
      "\n",
      "Quartile 1: 3.5\n",
      "Quartile 2: 5.0\n",
      "Quartile 3: 6.5\n",
      "\n",
      "Interquartile Range 3.0\n"
     ]
    }
   ],
   "source": [
    "# Defining Data\n",
    "data1=np.array([1, 3, 4, 5, 5, 6, 7, 11])\n",
    "print(\"Data\",data1)\n",
    "\n",
    "# First quartile (Q1)\n",
    "Q1 = np.quantile(data1, .25, interpolation = 'midpoint')\n",
    "print(\"\\nQuartile 1:\",Q1)\n",
    " \n",
    "# Second quartile (Q2)\n",
    "Q2 = np.quantile(data1, .50, interpolation = 'midpoint')\n",
    "print(\"Quartile 2:\",Q2)\n",
    "\n",
    "# Third quartile (Q3)\n",
    "Q3 = np.quantile(data1, .75, interpolation = 'midpoint')\n",
    "print(\"Quartile 3:\",Q3)\n",
    "\n",
    "# Interquaritle range (IQR)\n",
    "IQR = Q3 - Q1\n",
    "print(\"\\nInterquartile Range\",IQR)"
   ]
  },
  {
   "cell_type": "markdown",
   "id": "2d3ddd30",
   "metadata": {},
   "source": [
    "## Percentiles "
   ]
  },
  {
   "cell_type": "markdown",
   "id": "28a6887b",
   "metadata": {},
   "source": [
    "The percentile usually indicates that a certain percentage falls below that percentile. For example, if you score in the 25th percentile, then 25% of test takers are below your score. The “25” is called the percentile rank."
   ]
  },
  {
   "cell_type": "code",
   "execution_count": 27,
   "id": "5a28bb95",
   "metadata": {},
   "outputs": [
    {
     "name": "stdout",
     "output_type": "stream",
     "text": [
      "Data [ 1  3  4  5  5  6  7 11]\n",
      "20th Percentile: 3.4\n"
     ]
    }
   ],
   "source": [
    "print(\"Data\",data1)\n",
    "percentile_20 = np.percentile(data1,20)\n",
    "print(\"20th Percentile:\",round(percentile_20,2))"
   ]
  },
  {
   "cell_type": "markdown",
   "id": "3c89b218",
   "metadata": {},
   "source": [
    "## VARIANCE AND STANDARD DEVIATION"
   ]
  },
  {
   "cell_type": "markdown",
   "id": "366efab4",
   "metadata": {},
   "source": [
    "Variance is a measure of how the spread-out a data set is. Standard Deviation is the square root of variance. It is denoted by greek letter sigma"
   ]
  },
  {
   "cell_type": "code",
   "execution_count": 28,
   "id": "0e6761ef",
   "metadata": {},
   "outputs": [
    {
     "name": "stdout",
     "output_type": "stream",
     "text": [
      "Data [ 1  3  4  5  5  6  7 11]\n",
      "Varaince: 8.785714285714286\n",
      "Standard Deviation: 2.7726341266023544\n",
      "Standard Deviation: 2.9640705601780613\n"
     ]
    }
   ],
   "source": [
    "import numpy as np\n",
    "\n",
    "data1=np.array([1, 3, 4, 5, 5, 6, 7, 11])\n",
    "\n",
    "print(\"Data\",data1)\n",
    "\n",
    "'''\n",
    "    \"Delta Degrees of Freedom\": the divisor used in the calculation is\n",
    "    ``N - ddof``, where ``N`` represents the number of elements. By\n",
    "    default `ddof` is zero.\n",
    "'''\n",
    "print(\"Varaince:\",np.var(data1,ddof=1))\n",
    "print(\"Standard Deviation:\",np.std(data1,ddof=0)) # populasi\n",
    "print(\"Standard Deviation:\",np.std(data1,ddof=1)) # sampel"
   ]
  },
  {
   "cell_type": "code",
   "execution_count": 29,
   "id": "0858be83",
   "metadata": {},
   "outputs": [
    {
     "name": "stdout",
     "output_type": "stream",
     "text": [
      "Nilai Mean E :  78.0\n",
      "Nilai Range E : 40\n",
      "Nilai Varians E : 116.0\n",
      "Nilai Standart Deviasi E:  10.770329614269007\n",
      "Nilai Standart Deviasi E:  11.352924243950934\n"
     ]
    }
   ],
   "source": [
    "import numpy as np\n",
    "import statistics\n",
    "\n",
    "E = [60,70,70,70,80,80,80,80,90,100]\n",
    "F = [75,75,75,75,80,80,80,80,80,80]\n",
    "\n",
    "# mean\n",
    "print(\"Nilai Mean E : \", np.mean(E))\n",
    "\n",
    "# range\n",
    "print(\"Nilai Range E :\", np.max(E) - np.min(E))\n",
    "\n",
    "# varians\n",
    "print(\"Nilai Varians E :\", np.var(E))\n",
    "\n",
    "# Standart Deviasi\n",
    "print(\"Nilai Standart Deviasi E: \", np.std(E)) # std populasi\n",
    "print(\"Nilai Standart Deviasi E: \", statistics.stdev(E)) # std sampel, bisa pakai "
   ]
  },
  {
   "cell_type": "markdown",
   "id": "9cfe878a",
   "metadata": {},
   "source": [
    "## COVARIANCE AND CORRELATION"
   ]
  },
  {
   "cell_type": "markdown",
   "id": "d475252a",
   "metadata": {},
   "source": [
    "### COVARIANCE "
   ]
  },
  {
   "cell_type": "markdown",
   "id": "c4dfe38c",
   "metadata": {},
   "source": [
    "1. Covariance is a statistical technique used for determining the relationship between the movement of two random variables. In short, how much two random variables change together. \n",
    "\n",
    "2. Provides a measure of the strength of the correlation between two or more sets of random variates.\n",
    "\n",
    "3. Example: Let E(x) be the expected value of a given variable x, and E(y) be the expected value of variable y, then the covariance between x and y is given by:\n",
    "\n",
    "* If COV(x, y) = 0 then variables are uncorrelated\n",
    "* If COV(x, y) > 0 then variables positively correlated\n",
    "* If COV(x, y) < 0 then variables negatively correlated"
   ]
  },
  {
   "cell_type": "code",
   "execution_count": 30,
   "id": "8b6d6dfb",
   "metadata": {},
   "outputs": [
    {
     "name": "stdout",
     "output_type": "stream",
     "text": [
      "[1 2 3 4 5 6 7 8 9]\n",
      "[9 8 7 6 5 4 3 2 1]\n",
      "\n",
      "Covariance  -7.5\n"
     ]
    }
   ],
   "source": [
    "x = np.array([1,2,3,4,5,6,7,8,9])\n",
    "print(x)\n",
    "y = np.array([9,8,7,6,5,4,3,2,1])\n",
    "print(y)\n",
    "\n",
    "print(\"\\nCovariance \",np.cov(x,y)[0,1])"
   ]
  },
  {
   "cell_type": "markdown",
   "id": "4ff241f7",
   "metadata": {},
   "source": [
    "## CORRELATION"
   ]
  },
  {
   "cell_type": "markdown",
   "id": "3a6c6efc",
   "metadata": {},
   "source": [
    "1. It is the measure of the strength of the relation between two variables. How strongly two variables are connected is defined as the correlation. \n",
    "\n",
    "2. It depends upon two variables, change in one variable effect a change in second variable.\n",
    "\n",
    "3. Its value lies in the range of -1 and +1. r is called the Pearson's correlation coefficient.\n",
    "\n",
    "4. Is related to covariance by the given formula:\n",
    "\n",
    "* A correlation coefficient greater than zero indicates a positive relationship while a value less than zero signifies a negative relationship.\n",
    "* A value of zero indicates no relationship between the two variables being compared."
   ]
  },
  {
   "cell_type": "code",
   "execution_count": 31,
   "id": "b31b2795",
   "metadata": {},
   "outputs": [
    {
     "name": "stdout",
     "output_type": "stream",
     "text": [
      "[[ 1. -1.]\n",
      " [-1.  1.]]\n"
     ]
    }
   ],
   "source": [
    "# Return a correlation coefficient matrix\n",
    "print(np.corrcoef(x,y))"
   ]
  },
  {
   "cell_type": "markdown",
   "id": "e0919a38",
   "metadata": {},
   "source": [
    "## KURTOSIS"
   ]
  },
  {
   "cell_type": "markdown",
   "id": "81977e17",
   "metadata": {},
   "source": [
    "1. Measure of how tall and sharp the central peak is, relative to a standard bell curve.\n",
    "2. Also called as the measure of tailedness of a data distribution"
   ]
  },
  {
   "cell_type": "code",
   "execution_count": 32,
   "id": "51f3506b",
   "metadata": {},
   "outputs": [
    {
     "name": "stdout",
     "output_type": "stream",
     "text": [
      "Kurtosis -1.2002400240024003\n"
     ]
    }
   ],
   "source": [
    "data2=np.linspace(-5,5,100)\n",
    "print(\"Kurtosis\",stats.kurtosis(data2))"
   ]
  },
  {
   "cell_type": "markdown",
   "id": "0fae98c0",
   "metadata": {},
   "source": [
    "## SKEWNESS "
   ]
  },
  {
   "cell_type": "markdown",
   "id": "23701697",
   "metadata": {},
   "source": [
    "The amount and direction of skew in data distribution, i.e. deviation from the horizontal symmetry. The following is an example of finding skewness."
   ]
  },
  {
   "cell_type": "code",
   "execution_count": 33,
   "id": "65e98245",
   "metadata": {},
   "outputs": [
    {
     "data": {
      "text/html": [
       "<script>\n",
       "code_show=true; \n",
       "function code_toggle() {\n",
       "    if (code_show){\n",
       "        $('div.cell.code_cell.rendered.selected div.input').hide();\n",
       "    } else {\n",
       "        $('div.cell.code_cell.rendered.selected div.input').show();\n",
       "    }\n",
       "    code_show = !code_show\n",
       "} \n",
       "$( document ).ready(code_toggle);\n",
       "</script>\n",
       "To show/hide this cell's raw code input, click <a href=\"javascript:code_toggle()\">here</a>."
      ],
      "text/plain": [
       "<IPython.core.display.HTML object>"
      ]
     },
     "metadata": {},
     "output_type": "display_data"
    },
    {
     "data": {
      "image/png": "[encoded data removed]",
      "text/plain": [
       "<Figure size 432x288 with 1 Axes>"
      ]
     },
     "metadata": {
      "needs_background": "light"
     },
     "output_type": "display_data"
    }
   ],
   "source": [
    "from IPython.display import HTML\n",
    "from IPython.display import display\n",
    "\n",
    "# Taken from https://stackoverflow.com/questions/31517194/how-to-hide-one-specific-cell-input-or-output-in-ipython-notebook\n",
    "tag = HTML('''<script>\n",
    "code_show=true; \n",
    "function code_toggle() {\n",
    "    if (code_show){\n",
    "        $('div.cell.code_cell.rendered.selected div.input').hide();\n",
    "    } else {\n",
    "        $('div.cell.code_cell.rendered.selected div.input').show();\n",
    "    }\n",
    "    code_show = !code_show\n",
    "} \n",
    "$( document ).ready(code_toggle);\n",
    "</script>\n",
    "To show/hide this cell's raw code input, click <a href=\"javascript:code_toggle()\">here</a>.''')\n",
    "display(tag)\n",
    "\n",
    "\n",
    "\n",
    "from scipy.stats import skewnorm\n",
    "import matplotlib.pyplot as plt\n",
    "\n",
    "numValues = 10000\n",
    "maxValue = 100\n",
    "skewness = -5   #Negative values are left skewed, positive values are right skewed.\n",
    "\n",
    "random = skewnorm.rvs(a = skewness,loc=maxValue, size=numValues)  #Skewnorm function\n",
    "\n",
    "random = random - min(random)      #Shift the set so the minimum value is equal to zero.\n",
    "random = random / max(random)      #Standadize all the vlues between 0 and 1. \n",
    "random = random * maxValue         #Multiply the standardized values by the maximum value.\n",
    "\n",
    "#Plot histogram to check skewness\n",
    "plt.hist(random,30,density=True, color = 'red', alpha=0.1)\n",
    "plt.show()"
   ]
  },
  {
   "cell_type": "markdown",
   "id": "679e1abb",
   "metadata": {},
   "source": [
    "##  Eigen Vector"
   ]
  },
  {
   "cell_type": "markdown",
   "id": "18718012",
   "metadata": {},
   "source": [
    "LetA be an nXn matrix (SquareMatrix).\n",
    "\n",
    "1. An eigen vector of A is a non zero vector v in Rn such that Av=λv,for some scalar λ.\n",
    "2. An eigenvalue of A is a scalar λ such that the equation Av=λv has a non trivial solution.\n",
    "\n",
    "If Av=λv for v not equal to 0,we say that λ is the eigenvalue for v,and that v is aneigenvector for λ.\n",
    "\n",
    "The German prefix “eigen” roughly translates to “self” or “own”. An eigenvector ofAis a vector that is taken to a multiple of itself by the matrix transformationT(x)=Ax,which perhaps explains the terminology. On the other hand, “eigen” is often translated as “characteristic”; we may think of an eigenvector as describing an intrinsic, or characteristic, property ofA.\n",
    "\n",
    "Note-Eigenvalues and eigenvectors are only for square matrices."
   ]
  },
  {
   "cell_type": "code",
   "execution_count": 34,
   "id": "9a6c34a4",
   "metadata": {},
   "outputs": [
    {
     "data": {
      "text/plain": [
       "matrix([[4, 2, 3],\n",
       "        [6, 7, 5],\n",
       "        [3, 6, 1]])"
      ]
     },
     "execution_count": 34,
     "metadata": {},
     "output_type": "execute_result"
    }
   ],
   "source": [
    "import numpy as np\n",
    "x = np.matrix([[4,2,3],[6,7,5],[3,6,1]])\n",
    "x"
   ]
  },
  {
   "cell_type": "code",
   "execution_count": 35,
   "id": "abf96e16",
   "metadata": {},
   "outputs": [
    {
     "data": {
      "text/plain": [
       "array([[1., 0., 0.],\n",
       "       [0., 1., 0.],\n",
       "       [0., 0., 1.]])"
      ]
     },
     "execution_count": 35,
     "metadata": {},
     "output_type": "execute_result"
    }
   ],
   "source": [
    "e = np.eye(3)\n",
    "e"
   ]
  },
  {
   "cell_type": "code",
   "execution_count": 36,
   "id": "c31765a3",
   "metadata": {},
   "outputs": [
    {
     "data": {
      "text/plain": [
       "(array([12.76222365,  1.17374428, -1.93596793]),\n",
       " matrix([[-0.35090794, -0.78464131, -0.36647301],\n",
       "         [-0.79489403,  0.40589024, -0.25466269],\n",
       "         [-0.49498192,  0.4686055 ,  0.89489913]]))"
      ]
     },
     "execution_count": 36,
     "metadata": {},
     "output_type": "execute_result"
    }
   ],
   "source": [
    "# creating a new matrix which  is linear transformation of x\n",
    "m = x + 45*e\n",
    "np.linalg.eig(x)"
   ]
  },
  {
   "cell_type": "code",
   "execution_count": 37,
   "id": "b6674f8f",
   "metadata": {},
   "outputs": [
    {
     "data": {
      "text/plain": [
       "(array([57.76222365, 46.17374428, 43.06403207]),\n",
       " matrix([[-0.35090794, -0.78464131, -0.36647301],\n",
       "         [-0.79489403,  0.40589024, -0.25466269],\n",
       "         [-0.49498192,  0.4686055 ,  0.89489913]]))"
      ]
     },
     "execution_count": 37,
     "metadata": {},
     "output_type": "execute_result"
    }
   ],
   "source": [
    "np.linalg.eig(m)"
   ]
  }
 ],
 "metadata": {
  "kernelspec": {
   "display_name": "Python 3",
   "language": "python",
   "name": "python3"
  },
  "language_info": {
   "codemirror_mode": {
    "name": "ipython",
    "version": 3
   },
   "file_extension": ".py",
   "mimetype": "text/x-python",
   "name": "python",
   "nbconvert_exporter": "python",
   "pygments_lexer": "ipython3",
   "version": "3.8.8"
  }
 },
 "nbformat": 4,
 "nbformat_minor": 5
}
