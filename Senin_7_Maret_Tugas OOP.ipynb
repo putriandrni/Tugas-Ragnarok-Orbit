{
 "cells": [
  {
   "cell_type": "markdown",
   "id": "fe3a28cc",
   "metadata": {},
   "source": [
    "# OOP 1"
   ]
  },
  {
   "cell_type": "code",
   "execution_count": 16,
   "id": "ea428a55",
   "metadata": {
    "scrolled": true
   },
   "outputs": [
    {
     "name": "stdout",
     "output_type": "stream",
     "text": [
      "Halo, apa kabar?\n"
     ]
    }
   ],
   "source": [
    "# Deklarasi Object (Class)\n",
    "\n",
    "class Orang(object):\n",
    "    #method\n",
    "    def menyapa(self):\n",
    "        print(\"Halo, apa kabar?\")\n",
    "\n",
    "# Memanggil method\n",
    "org1 = Orang()\n",
    "org1.menyapa()   "
   ]
  },
  {
   "cell_type": "markdown",
   "id": "2b4ee8ab",
   "metadata": {},
   "source": [
    "# Encapsulation"
   ]
  },
  {
   "cell_type": "code",
   "execution_count": 17,
   "id": "da755441",
   "metadata": {
    "scrolled": true
   },
   "outputs": [
    {
     "name": "stdout",
     "output_type": "stream",
     "text": [
      "nama: Karina, usia: 12, hobi: mendengarkan musik, bakat: menyanyi\n",
      "Halo, apa kabar?\n"
     ]
    }
   ],
   "source": [
    "nama = \"Karina\"\n",
    "usia = 12\n",
    "hobi = \"mendengarkan musik\"\n",
    "bakat = \"menyanyi\"\n",
    "\n",
    "def menyapa():\n",
    "    print(\"Halo, apa kabar?\")\n",
    "\n",
    "def info_orang(nama, usia, hobi, bakat):\n",
    "    print(f\"nama: {nama}, usia: {usia}, hobi: {hobi}, bakat: {bakat}\") \n",
    "\n",
    "info_orang(nama, usia, hobi, bakat)\n",
    "menyapa()"
   ]
  },
  {
   "cell_type": "code",
   "execution_count": 18,
   "id": "fc67c177",
   "metadata": {
    "scrolled": true
   },
   "outputs": [
    {
     "name": "stdout",
     "output_type": "stream",
     "text": [
      "nama: Karina, usia: 12, hobi: mendengarkan musik, bakat: menyanyi\n",
      "Halo, apa kabar?Halo, apa kabar?\n"
     ]
    }
   ],
   "source": [
    "class Orang(object):\n",
    "    \n",
    "    nama_orang = \" \"\n",
    "    def __init__(self, input_nama, input_usia, input_hobi, input_bakat):\n",
    "        self.nama = input_nama\n",
    "        self.usia = input_usia\n",
    "        self.hobi = input_hobi\n",
    "        self.bakat = input_bakat\n",
    "\n",
    "    def menyapa(self):\n",
    "        print(\"Halo, apa kabar?Halo, apa kabar?\")\n",
    "\n",
    "    def info_orang(self):\n",
    "        print(f\"nama: {self.nama}, usia: {self.usia}, hobi: {self.hobi}, bakat: {self.bakat}\")\n",
    "\n",
    "\n",
    "org1 = Orang(\"Karina\", 12, \"mendengarkan musik\", \"menyanyi\")\n",
    "\n",
    "org1.info_orang()\n",
    "org1.menyapa()"
   ]
  },
  {
   "cell_type": "markdown",
   "id": "5f827655",
   "metadata": {},
   "source": [
    "# Inheritance"
   ]
  },
  {
   "cell_type": "code",
   "execution_count": 19,
   "id": "8fd1347d",
   "metadata": {},
   "outputs": [
    {
     "name": "stdout",
     "output_type": "stream",
     "text": [
      "nama: Karina, usia: 12, hobi: mendengarkan musik, bakat: menyanyi\n"
     ]
    }
   ],
   "source": [
    "class Manusia(object):\n",
    "    def __init__(self, nama, usia, hobi, bakat):\n",
    "        self.nama = nama\n",
    "        self.usia = usia\n",
    "        self.hobi = hobi\n",
    "        self.bakat = bakat\n",
    "\n",
    "    def menyapa(self, durasi):\n",
    "        for x in range(durasi):\n",
    "            print(\"Halo, apa kabar?\")\n",
    "\n",
    "    def info(self):\n",
    "        print(f\"nama: {self.nama}, usia: {self.usia}, hobi: {self.hobi}, bakat: {self.bakat}\")\n",
    "\n",
    "\n",
    "org1 = Manusia(\"Karina\", 12, \"mendengarkan musik\", \"menyanyi\")\n",
    "org1.info()"
   ]
  },
  {
   "cell_type": "code",
   "execution_count": 20,
   "id": "79158f8e",
   "metadata": {
    "scrolled": true
   },
   "outputs": [
    {
     "name": "stdout",
     "output_type": "stream",
     "text": [
      "nama: Irfan, usia: 17, hobi: bermain bola, bakat: olahraga\n",
      "sekolah: SMA 2, domisili: Jakarta\n",
      "Halo, apa kabar?\n",
      "Halo, apa kabar?\n",
      "Halo, apa kabar?\n",
      "Hai, senang bertemu!\n"
     ]
    }
   ],
   "source": [
    "class Pelajar(Manusia):\n",
    "    def __init__(self, nama, usia, hobi, bakat, sekolah, domisili):\n",
    "        super().__init__(nama, usia, hobi, bakat)\n",
    "        self.sekolah = sekolah\n",
    "        self.domisili = domisili\n",
    "\n",
    "    def sapa(self):\n",
    "        super().menyapa(3)\n",
    "        print(\"Hai, senang bertemu!\")\n",
    "\n",
    "    def info_pelajar(self):\n",
    "        super().info()\n",
    "        print(f\"sekolah: {self.sekolah}, domisili: {self.domisili}\")\n",
    "\n",
    "student1 = Pelajar(\"Irfan\", 17, \"bermain bola\", \"olahraga\", \"SMA 2\", \"Jakarta\")\n",
    "\n",
    "student1.info_pelajar()\n",
    "student1.sapa()"
   ]
  },
  {
   "cell_type": "markdown",
   "id": "2e402247",
   "metadata": {},
   "source": [
    "# Abstraction"
   ]
  },
  {
   "cell_type": "code",
   "execution_count": 21,
   "id": "ee88bf77",
   "metadata": {},
   "outputs": [],
   "source": [
    "from abc import abstractmethod, ABC"
   ]
  },
  {
   "cell_type": "code",
   "execution_count": 22,
   "id": "b0d02cb2",
   "metadata": {},
   "outputs": [
    {
     "name": "stdout",
     "output_type": "stream",
     "text": [
      "Belajar\n",
      "Bekerja\n"
     ]
    }
   ],
   "source": [
    "class Manusia(ABC):\n",
    "    \n",
    "    @abstractmethod\n",
    "    def kegiatan(self):\n",
    "        pass\n",
    "    \n",
    "class Pelajar(Manusia):\n",
    "    def kegiatan(self):\n",
    "        print(\"Belajar\")\n",
    "        \n",
    "class Pekerja(Manusia):\n",
    "    def kegiatan(self):\n",
    "        print(\"Bekerja\")\n",
    "        \n",
    "pelajar1 = Pelajar()\n",
    "pekerja1 = Pekerja()\n",
    "\n",
    "pelajar1.kegiatan()\n",
    "pekerja1.kegiatan()"
   ]
  },
  {
   "cell_type": "markdown",
   "id": "e7a8c35a",
   "metadata": {},
   "source": [
    "# Polymorphism"
   ]
  },
  {
   "cell_type": "code",
   "execution_count": 23,
   "id": "2ac5c737",
   "metadata": {},
   "outputs": [
    {
     "name": "stdout",
     "output_type": "stream",
     "text": [
      "nama: Silmi, usia: 15, hobi: membaca\n",
      "sekolah: SMPN 7 Tangerang, domisili: Tangerang\n",
      "Halo, apa kabar?\n",
      "Halo, apa kabar?\n",
      "Halo, apa kabar?\n",
      "nama: Iwan, usia: 44, hobi: Memancing\n",
      "Halo, apa kabar?\n",
      "Halo, apa kabar?\n",
      "Halo, apa kabar?\n",
      "Staff\n"
     ]
    }
   ],
   "source": [
    "class Manusia(object):\n",
    "    def __init__(self, nama, usia, hobi):\n",
    "        self.nama = nama\n",
    "        self.usia = usia\n",
    "        self.hobi = hobi\n",
    "\n",
    "    def menyapa(self, durasi):\n",
    "        for x in range(durasi):\n",
    "            print(\"Halo, apa kabar?\")\n",
    "\n",
    "    def info(self):\n",
    "        print(f\"nama: {self.nama}, usia: {self.usia}, hobi: {self.hobi}\")\n",
    "\n",
    "class Pelajar(Manusia):\n",
    "    def __init__(self,  nama, usia, hobi, sekolah, domisili):\n",
    "        super().__init__(nama, usia, hobi)\n",
    "        self.sekolah = sekolah\n",
    "        self.domisili = domisili\n",
    "  \n",
    "    def tingkatan(self, durasi):\n",
    "        print(\"Tingkat Sekolah Menengah Atas\")\n",
    "\n",
    "    def info_pelajar(self):\n",
    "        print(f\"sekolah: {self.sekolah}, domisili: {self.domisili}\")\n",
    "\n",
    "class Pekerja(Manusia):\n",
    "    def __init__(self, nama, usia, hobi, instansi, domisili):\n",
    "        super().__init__(nama, usia, hobi)\n",
    "        self.instansi = instansi\n",
    "        self.domisili = domisili\n",
    "  \n",
    "    def gaji(self, upah):\n",
    "        if upah >= 10000000 :\n",
    "          print(\"Manager\")\n",
    "        else:\n",
    "          print(\"Staff\")\n",
    "\n",
    "pelajar1 = Pelajar(\"Silmi\", 15, \"membaca\", \"SMPN 7 Tangerang\", \"Tangerang\")\n",
    "\n",
    "pelajar1.info()\n",
    "pelajar1.info_pelajar()\n",
    "pelajar1.menyapa(3)\n",
    "\n",
    "\n",
    "pekerja1 = Pekerja(\"Iwan\", 44, \"Memancing\", \"PT. ABC\", \"Semarang\")\n",
    "\n",
    "pekerja1.info()\n",
    "pekerja1.menyapa(3)\n",
    "pekerja1.gaji(3)"
   ]
  },
  {
   "cell_type": "markdown",
   "id": "81cefe97",
   "metadata": {},
   "source": [
    "# OOP 2"
   ]
  },
  {
   "cell_type": "code",
   "execution_count": 33,
   "id": "93359fa8",
   "metadata": {},
   "outputs": [
    {
     "name": "stdout",
     "output_type": "stream",
     "text": [
      "Digunakan untuk mendukung kegiatan administrasi\n"
     ]
    }
   ],
   "source": [
    "# Deklarasi Object (Class)\n",
    "\n",
    "class ATK(object):\n",
    "    #method\n",
    "    def deskripsi(self):\n",
    "        print(\"Digunakan untuk mendukung kegiatan administrasi\")\n",
    "\n",
    "# Memanggil method\n",
    "atk1 = ATK()\n",
    "atk1.deskripsi() "
   ]
  },
  {
   "cell_type": "markdown",
   "id": "7f4fbbaa",
   "metadata": {},
   "source": [
    "# Encapsulation"
   ]
  },
  {
   "cell_type": "code",
   "execution_count": 50,
   "id": "d5ad34cb",
   "metadata": {},
   "outputs": [
    {
     "name": "stdout",
     "output_type": "stream",
     "text": [
      "barang: Pensil, warna: Hitam, merk: Faber Castell\n",
      "Digunakan untuk mendukung kegiatan administrasi\n"
     ]
    }
   ],
   "source": [
    "barang = \"Pensil\"\n",
    "warna = \"Hitam\"\n",
    "merk = \"Faber Castell\"\n",
    "\n",
    "def deskripsi():\n",
    "    print(\"Digunakan untuk mendukung kegiatan administrasi\")\n",
    "\n",
    "def info_barang(barang, warna, merk):\n",
    "    print(f\"barang: {barang}, warna: {warna}, merk: {merk}\") \n",
    "\n",
    "info_barang(barang, warna, merk)\n",
    "deskripsi()"
   ]
  },
  {
   "cell_type": "code",
   "execution_count": 51,
   "id": "ab8d0515",
   "metadata": {},
   "outputs": [
    {
     "name": "stdout",
     "output_type": "stream",
     "text": [
      "barang: Pensil, warna: Hitam, merk: Faber Castell\n",
      "Digunakan untuk mendukung kegiatan administrasi\n"
     ]
    }
   ],
   "source": [
    "class ATK(object):\n",
    "    \n",
    "    nama_barang = \" \"\n",
    "    def __init__(self, input_barang, input_warna, input_merk):\n",
    "        self.barang = input_barang\n",
    "        self.warna = input_warna\n",
    "        self.merk = input_merk\n",
    "\n",
    "    def deskripsi(self):\n",
    "        print(\"Digunakan untuk mendukung kegiatan administrasi\")\n",
    "\n",
    "    def info_barang(self):\n",
    "        print(f\"barang: {barang}, warna: {warna}, merk: {merk}\")\n",
    "\n",
    "\n",
    "brg1 = ATK(\"Pensil\", \"Hitam\", \"Faber Castell\")\n",
    "\n",
    "brg1.info_barang()\n",
    "brg1.deskripsi()"
   ]
  },
  {
   "cell_type": "markdown",
   "id": "6d0933e7",
   "metadata": {},
   "source": [
    "# Inheritance"
   ]
  },
  {
   "cell_type": "code",
   "execution_count": 52,
   "id": "f2c00c3f",
   "metadata": {},
   "outputs": [
    {
     "name": "stdout",
     "output_type": "stream",
     "text": [
      "barang: Pensil, warna: Hijau, merk: Faber Castell\n"
     ]
    }
   ],
   "source": [
    "class ATK(object):\n",
    "    \n",
    "    def __init__(self, barang, warna, merk):\n",
    "        self.barang = barang\n",
    "        self.warna = warna\n",
    "        self.merk = merk\n",
    "\n",
    "    def deskripsi(self, durasi):\n",
    "        for x in range(durasi):\n",
    "            print(\"Merupakan alat tulis\")\n",
    "\n",
    "    def info(self):\n",
    "        print(f\"barang: {self.barang}, warna: {self.warna}, merk: {self.merk}\")\n",
    "\n",
    "\n",
    "brg1 = ATK(\"Pensil\", \"Hijau\", \"Faber Castell\")\n",
    "brg1.info()"
   ]
  },
  {
   "cell_type": "code",
   "execution_count": 53,
   "id": "bdad6849",
   "metadata": {},
   "outputs": [
    {
     "name": "stdout",
     "output_type": "stream",
     "text": [
      "barang: Pulpen, warna: Biru, merk: Joyko\n",
      "harga: Rp 10000\n",
      "Merupakan alat tulis\n",
      "Merupakan alat tulis\n",
      "Digunakan oleh semua kalangan\n"
     ]
    }
   ],
   "source": [
    "class alat_tulis(ATK):\n",
    "    \n",
    "    def __init__(self, barang, warna, merk, harga):\n",
    "        super().__init__(barang, warna, merk)\n",
    "        self.harga = harga\n",
    "\n",
    "    def rincian(self):\n",
    "        super().deskripsi(2)\n",
    "        print(\"Digunakan oleh semua kalangan\")\n",
    "\n",
    "    def info_barang(self):\n",
    "        super().info()\n",
    "        print(f\"harga: {self.harga}\")\n",
    "\n",
    "alat1 = alat_tulis(\"Pulpen\", \"Biru\", \"Joyko\" , \"Rp 10000\")\n",
    "\n",
    "alat1.info_barang()\n",
    "alat1.rincian()"
   ]
  },
  {
   "cell_type": "markdown",
   "id": "d0bdaab3",
   "metadata": {},
   "source": [
    "# Abstraction"
   ]
  },
  {
   "cell_type": "code",
   "execution_count": 54,
   "id": "cbc25a1a",
   "metadata": {},
   "outputs": [],
   "source": [
    "from abc import abstractmethod, ABC"
   ]
  },
  {
   "cell_type": "code",
   "execution_count": 55,
   "id": "33b522ec",
   "metadata": {},
   "outputs": [
    {
     "name": "stdout",
     "output_type": "stream",
     "text": [
      "Penghapus\n",
      "Buku Gambar\n"
     ]
    }
   ],
   "source": [
    "class ATK(ABC):\n",
    "    \n",
    "    @abstractmethod\n",
    "    def barang(self):\n",
    "        pass\n",
    "    \n",
    "class alat_tulis(ATK):\n",
    "    def barang(self):\n",
    "        print(\"Penghapus\")\n",
    "        \n",
    "class alat_sekolah(ATK):\n",
    "    def barang(self):\n",
    "        print(\"Buku Gambar\")\n",
    "        \n",
    "alatulis1 = alat_tulis()\n",
    "alatsekolah1 = alat_sekolah()\n",
    "\n",
    "alatulis1.barang()\n",
    "alatsekolah1.barang()"
   ]
  },
  {
   "cell_type": "markdown",
   "id": "dfa21116",
   "metadata": {},
   "source": [
    "# Polymorphism"
   ]
  },
  {
   "cell_type": "code",
   "execution_count": 56,
   "id": "979ad109",
   "metadata": {},
   "outputs": [
    {
     "name": "stdout",
     "output_type": "stream",
     "text": [
      "barang: Tip-ex, warna: Biru, merk: Deli\n",
      "Digunakan untuk menulis\n",
      "harga: Rp 5000, stok: 200\n",
      "barang: Pensil Warna, warna: Merah, merk: Titi\n",
      "Digunakan untuk mendukung kegiatan administrasi\n",
      "Digunakan untuk mendukung kegiatan administrasi\n",
      "Digunakan untuk mendukung kegiatan administrasi\n",
      "Untuk Mewarnai\n"
     ]
    }
   ],
   "source": [
    "class ATK(object):\n",
    "    def __init__(self, barang, warna, merk):\n",
    "        self.barang = barang\n",
    "        self.warna = warna\n",
    "        self.merk = merk\n",
    "\n",
    "    def deskripsi(self, durasi):\n",
    "        for x in range(durasi):\n",
    "            print(\"Digunakan untuk mendukung kegiatan administrasi\")\n",
    "\n",
    "    def info(self):\n",
    "        print(f\"barang: {self.barang}, warna: {self.warna}, merk: {self.merk}\")\n",
    "\n",
    "class alat_tulis(ATK):\n",
    "    def __init__(self,  barang, warna, merk, harga, stok):\n",
    "        super().__init__(barang, warna, merk)\n",
    "        self.harga = harga\n",
    "        self.stok = stok\n",
    "  \n",
    "    def fungsi(self, durasi):\n",
    "        print(\"Digunakan untuk menulis\")\n",
    "\n",
    "    def info_alatulis(self):\n",
    "        print(f\"harga: {self.harga}, stok: {self.stok}\")\n",
    "\n",
    "class alat_sekolah(ATK):\n",
    "    def __init__(self, barang, warna, merk, harga, toko):\n",
    "        super().__init__(barang, warna, merk)\n",
    "        self.harga = harga\n",
    "        self.toko = toko\n",
    "  \n",
    "    def kegunaan(self, guna):\n",
    "        if guna != \"Mewarnai\":\n",
    "          print(\"Untuk Mewarnai\")\n",
    "        else:\n",
    "          print(\"Buku tulis\")\n",
    "\n",
    "alatulis1 = alat_tulis(\"Tip-ex\", \"Biru\", \"Deli\", \"Rp 5000\", 200)\n",
    "\n",
    "alatulis1.info()\n",
    "alatulis1.fungsi(3)\n",
    "alatulis1.info_alatulis()\n",
    "\n",
    "\n",
    "alatsekolah1 = alat_sekolah(\"Pensil Warna\", \"Merah\", \"Titi\", \"Rp 30000\", \"Jaya Makmur\")\n",
    "\n",
    "alatsekolah1.info()\n",
    "alatsekolah1.deskripsi(3)\n",
    "alatsekolah1.kegunaan(3)"
   ]
  },
  {
   "cell_type": "markdown",
   "id": "5a7b6882",
   "metadata": {},
   "source": [
    "# OOP 3"
   ]
  },
  {
   "cell_type": "code",
   "execution_count": 5,
   "id": "89743b3c",
   "metadata": {
    "scrolled": true
   },
   "outputs": [
    {
     "name": "stdout",
     "output_type": "stream",
     "text": [
      "Bangun tiga dimensi yang memiliki ruang dan dibatasi oleh sisi-sisinya\n"
     ]
    }
   ],
   "source": [
    "# Deklarasi Object (Class)\n",
    "\n",
    "class bangun_ruang(object):\n",
    "    #method\n",
    "    def deskripsi(self):\n",
    "        print(\"Bangun tiga dimensi yang memiliki ruang dan dibatasi oleh sisi-sisinya\")\n",
    "\n",
    "# Memanggil method\n",
    "bgr1 = bangun_ruang()\n",
    "bgr1.deskripsi()"
   ]
  },
  {
   "cell_type": "markdown",
   "id": "793c7f74",
   "metadata": {},
   "source": [
    "# Encapsulation"
   ]
  },
  {
   "cell_type": "code",
   "execution_count": 6,
   "id": "052fed3f",
   "metadata": {},
   "outputs": [
    {
     "name": "stdout",
     "output_type": "stream",
     "text": [
      "nama: Kubus, sisi: 6, rusuk: 12\n",
      "Bangun tiga dimensi yang memiliki ruang dan dibatasi oleh sisi-sisinya\n"
     ]
    }
   ],
   "source": [
    "nama = \"Kubus\"\n",
    "sisi = 6\n",
    "rusuk = 12\n",
    "\n",
    "def deskripsi():\n",
    "    print(\"Bangun tiga dimensi yang memiliki ruang dan dibatasi oleh sisi-sisinya\")\n",
    "\n",
    "def info_kubus(nama, sisi, rusuk):\n",
    "    print(f\"nama: {nama}, sisi: {sisi}, rusuk: {rusuk}\") \n",
    "\n",
    "info_kubus(nama, sisi, rusuk)\n",
    "deskripsi()"
   ]
  },
  {
   "cell_type": "code",
   "execution_count": 7,
   "id": "e0b82ae4",
   "metadata": {},
   "outputs": [
    {
     "name": "stdout",
     "output_type": "stream",
     "text": [
      "nama: Kubus, sisi: 6, rusuk: 12\n",
      "Bangun tiga dimensi yang memiliki ruang dan dibatasi oleh sisi-sisiny\n"
     ]
    }
   ],
   "source": [
    "class bangun_ruang(object):\n",
    "    \n",
    "    nama_bangunruang = \" \"\n",
    "    def __init__(self, input_nama, input_sisi, input_rusuk):\n",
    "        self.nama = input_nama\n",
    "        self.sisi = input_sisi\n",
    "        self.rusuk = input_rusuk\n",
    "\n",
    "    def deskripsi(self):\n",
    "        print(\"Bangun tiga dimensi yang memiliki ruang dan dibatasi oleh sisi-sisiny\")\n",
    "\n",
    "    def info_kubus(self):\n",
    "        print(f\"nama: {nama}, sisi: {sisi}, rusuk: {rusuk}\")\n",
    "\n",
    "bgr1 = bangun_ruang(\"Kubus\", 6, 12)\n",
    "\n",
    "bgr1.info_kubus()\n",
    "bgr1.deskripsi()"
   ]
  },
  {
   "cell_type": "markdown",
   "id": "248fd3fd",
   "metadata": {},
   "source": [
    "# Inheritance"
   ]
  },
  {
   "cell_type": "code",
   "execution_count": 8,
   "id": "bc8819af",
   "metadata": {},
   "outputs": [
    {
     "name": "stdout",
     "output_type": "stream",
     "text": [
      "nama: Kubus, sisi: 6, rusuk: 12\n"
     ]
    }
   ],
   "source": [
    "class bangun_ruang(object):\n",
    "    \n",
    "    def __init__(self, nama, sisi, rusuk):\n",
    "        self.nama = nama\n",
    "        self.sisi = sisi\n",
    "        self.rusuk = rusuk\n",
    "\n",
    "    def deskripsi(self, durasi):\n",
    "        for x in range(durasi):\n",
    "            print(\"Bangun ruang memiliki volume, isi, dan tiga komponen lainnya\")\n",
    "\n",
    "    def info(self):\n",
    "        print(f\"nama: {self.nama}, sisi: {self.sisi}, rusuk: {self.rusuk}\")\n",
    "\n",
    "bgr1 = bangun_ruang(\"Kubus\", 6, 12)\n",
    "bgr1.info()"
   ]
  },
  {
   "cell_type": "code",
   "execution_count": 9,
   "id": "5322c6eb",
   "metadata": {},
   "outputs": [
    {
     "name": "stdout",
     "output_type": "stream",
     "text": [
      "nama: Balok, sisi: 6, rusuk: 12\n",
      "titik sudut: 8\n",
      "Bangun ruang memiliki volume, isi, dan tiga komponen lainnya\n",
      "Bangun ruang memiliki volume, isi, dan tiga komponen lainnya\n",
      "Balok merupakan salah satu contoh bangun ruang\n"
     ]
    }
   ],
   "source": [
    "class balok(bangun_ruang):\n",
    "\n",
    "    def __init__(self, nama, sisi, rusuk, titik_sudut):\n",
    "        super().__init__(nama, sisi, rusuk)\n",
    "        self.titik_sudut = titik_sudut\n",
    "\n",
    "    def rincian(self):\n",
    "        super().deskripsi(2)\n",
    "        print(\"Balok merupakan salah satu contoh bangun ruang\")\n",
    "\n",
    "    def info_balok(self):\n",
    "        super().info()\n",
    "        print(f\"titik sudut: {self.titik_sudut}\")\n",
    "\n",
    "balok1 = balok(\"Balok\", 6, 12 , 8)\n",
    "\n",
    "balok1.info_balok()\n",
    "balok1.rincian()"
   ]
  },
  {
   "cell_type": "markdown",
   "id": "e76b50fa",
   "metadata": {},
   "source": [
    "# Heading"
   ]
  },
  {
   "cell_type": "code",
   "execution_count": 10,
   "id": "9a820bb0",
   "metadata": {},
   "outputs": [],
   "source": [
    "from abc import abstractmethod, ABC"
   ]
  },
  {
   "cell_type": "code",
   "execution_count": 13,
   "id": "e251ada6",
   "metadata": {},
   "outputs": [
    {
     "name": "stdout",
     "output_type": "stream",
     "text": [
      "Kubus\n",
      "Balok\n"
     ]
    }
   ],
   "source": [
    "class bangun_ruang(ABC):\n",
    "    \n",
    "    @abstractmethod\n",
    "    def contoh(self):\n",
    "        pass\n",
    "    \n",
    "class kubus(bangun_ruang):\n",
    "    def contoh(self):\n",
    "        print(\"Kubus\")\n",
    "        \n",
    "class balok(bangun_ruang):\n",
    "    def contoh(self):\n",
    "        print(\"Balok\")\n",
    "        \n",
    "kubus1 = kubus()\n",
    "kubus1.contoh()\n",
    "\n",
    "balok1 = balok()\n",
    "balok1.contoh()"
   ]
  },
  {
   "cell_type": "markdown",
   "id": "b77d12c5",
   "metadata": {},
   "source": [
    "# Polymorphism"
   ]
  },
  {
   "cell_type": "code",
   "execution_count": 15,
   "id": "012771f4",
   "metadata": {},
   "outputs": [
    {
     "name": "stdout",
     "output_type": "stream",
     "text": [
      "nama: Balok, sisi: 6, rusuk: 12\n",
      "Balok merupakan salah satu contoh bangun ruang\n",
      "Titik Sudut: 8\n",
      "nama: Kubus, sisi: 6, rusuk: 12\n",
      "Bangun ruang memiliki volume, isi, dan tiga komponen lainnya\n",
      "Bangun ruang memiliki volume, isi, dan tiga komponen lainnya\n",
      "Bangun ruang memiliki volume, isi, dan tiga komponen lainnya\n",
      "Balok\n"
     ]
    }
   ],
   "source": [
    "class bangun_ruang(object):\n",
    "     \n",
    "    def __init__(self, nama, sisi, rusuk):\n",
    "        self.nama = nama\n",
    "        self.sisi = sisi\n",
    "        self.rusuk = rusuk\n",
    "\n",
    "    def deskripsi(self, durasi):\n",
    "        for x in range(durasi):\n",
    "            print(\"Bangun ruang memiliki volume, isi, dan tiga komponen lainnya\")\n",
    "\n",
    "    def info(self):\n",
    "        print(f\"nama: {self.nama}, sisi: {self.sisi}, rusuk: {self.rusuk}\")\n",
    "\n",
    "class Balok(bangun_ruang):\n",
    "    def __init__(self, nama, sisi, rusuk, titik_sudut):\n",
    "        super().__init__(nama, sisi,rusuk)\n",
    "        self.titik_sudut = titik_sudut\n",
    "  \n",
    "    def fungsi(self, durasi):\n",
    "        print(\"Balok merupakan salah satu contoh bangun ruang\")\n",
    "\n",
    "    def info_balok(self):\n",
    "        print(f\"Titik Sudut: {self.titik_sudut}\")\n",
    "\n",
    "class Kubus(bangun_ruang):\n",
    "    def __init__(self, nama, sisi, rusuk, titik_sudut):\n",
    "        super().__init__(nama, sisi, rusuk)\n",
    "        self.titik_sudut = titik_sudut\n",
    "  \n",
    "    def volume(self, volum):\n",
    "        if volum != \"p*l*t\":\n",
    "          print(\"Balok\")\n",
    "        else:\n",
    "          print(\"Kubus\")\n",
    "\n",
    "balok1 = Balok(\"Balok\", 6, 12, 8)\n",
    "\n",
    "balok1.info()\n",
    "balok1.fungsi(3)\n",
    "balok1.info_balok()\n",
    "\n",
    "kubus1 = Kubus(\"Kubus\", 6, 12, 8)\n",
    "kubus1.info()\n",
    "kubus1.deskripsi(3)\n",
    "kubus1.volume(3)"
   ]
  },
  {
   "cell_type": "code",
   "execution_count": 17,
   "id": "4a8148a1",
   "metadata": {
    "scrolled": true
   },
   "outputs": [],
   "source": [
    "import bangun_ruang as br"
   ]
  },
  {
   "cell_type": "code",
   "execution_count": 19,
   "id": "e65a4ab2",
   "metadata": {},
   "outputs": [],
   "source": [
    "kubus1 = br.Kubus(5)"
   ]
  },
  {
   "cell_type": "code",
   "execution_count": 21,
   "id": "41a280e3",
   "metadata": {},
   "outputs": [
    {
     "name": "stdout",
     "output_type": "stream",
     "text": [
      "Volume: 125\n"
     ]
    }
   ],
   "source": [
    "kubus1.volume()"
   ]
  }
 ],
 "metadata": {
  "kernelspec": {
   "display_name": "Python 3",
   "language": "python",
   "name": "python3"
  },
  "language_info": {
   "codemirror_mode": {
    "name": "ipython",
    "version": 3
   },
   "file_extension": ".py",
   "mimetype": "text/x-python",
   "name": "python",
   "nbconvert_exporter": "python",
   "pygments_lexer": "ipython3",
   "version": "3.8.8"
  }
 },
 "nbformat": 4,
 "nbformat_minor": 5
}
