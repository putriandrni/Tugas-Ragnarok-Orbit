{
 "cells": [
  {
   "cell_type": "markdown",
   "id": "f99448ff",
   "metadata": {},
   "source": [
    "# Latihan-4 (Operasi matriks)"
   ]
  },
  {
   "cell_type": "code",
   "execution_count": 2,
   "id": "00aba63b",
   "metadata": {},
   "outputs": [],
   "source": [
    "import numpy as np"
   ]
  },
  {
   "cell_type": "code",
   "execution_count": 3,
   "id": "48199c07",
   "metadata": {},
   "outputs": [],
   "source": [
    "A = np.array([[1, 2], [7,8]])\n",
    "B = np.array([[3, 5], [1,6]])"
   ]
  },
  {
   "cell_type": "markdown",
   "id": "fbcbb98d",
   "metadata": {},
   "source": [
    "## Hitunglah:\n",
    "\n",
    "1. 2*A\n",
    "2. 2+A\n",
    "3. A+B\n",
    "4. A-B\n",
    "5. determinan A\n",
    "6. invers dari B, simpan jadi matriks D\n",
    "7. transpose D\n",
    "8. nilai eigen dan vektor eigen dari A dan B"
   ]
  },
  {
   "cell_type": "markdown",
   "id": "9b8bf6fd",
   "metadata": {},
   "source": [
    "### 1. 2*A"
   ]
  },
  {
   "cell_type": "code",
   "execution_count": 4,
   "id": "898bc3b8",
   "metadata": {},
   "outputs": [
    {
     "name": "stdout",
     "output_type": "stream",
     "text": [
      "[[ 2  4]\n",
      " [14 16]]\n"
     ]
    }
   ],
   "source": [
    "print(2*A)"
   ]
  },
  {
   "cell_type": "markdown",
   "id": "7d12dd47",
   "metadata": {},
   "source": [
    "### 2. 2+A"
   ]
  },
  {
   "cell_type": "code",
   "execution_count": 5,
   "id": "9d0643f4",
   "metadata": {},
   "outputs": [
    {
     "name": "stdout",
     "output_type": "stream",
     "text": [
      "[[ 3  4]\n",
      " [ 9 10]]\n"
     ]
    }
   ],
   "source": [
    "print(2+A)"
   ]
  },
  {
   "cell_type": "markdown",
   "id": "bf0ab77e",
   "metadata": {},
   "source": [
    "### 3. A+B"
   ]
  },
  {
   "cell_type": "code",
   "execution_count": 6,
   "id": "f171b250",
   "metadata": {},
   "outputs": [
    {
     "name": "stdout",
     "output_type": "stream",
     "text": [
      "[[ 4  7]\n",
      " [ 8 14]]\n"
     ]
    }
   ],
   "source": [
    "print(A+B)"
   ]
  },
  {
   "cell_type": "markdown",
   "id": "687372a6",
   "metadata": {},
   "source": [
    "### 4. A-B"
   ]
  },
  {
   "cell_type": "code",
   "execution_count": 7,
   "id": "1767fcf5",
   "metadata": {},
   "outputs": [
    {
     "name": "stdout",
     "output_type": "stream",
     "text": [
      "[[-2 -3]\n",
      " [ 6  2]]\n"
     ]
    }
   ],
   "source": [
    "print(A-B)"
   ]
  },
  {
   "cell_type": "markdown",
   "id": "bc29e3e2",
   "metadata": {},
   "source": [
    "### 5. Determinan A"
   ]
  },
  {
   "cell_type": "code",
   "execution_count": 8,
   "id": "3ece2f82",
   "metadata": {},
   "outputs": [
    {
     "name": "stdout",
     "output_type": "stream",
     "text": [
      "Determinan Matriks A =  -6.0\n"
     ]
    }
   ],
   "source": [
    "print(\"Determinan Matriks A = \", np.linalg.det(A))"
   ]
  },
  {
   "cell_type": "markdown",
   "id": "825f55d6",
   "metadata": {},
   "source": [
    "### 6. Invers dari B, simpan jadi Matriks D"
   ]
  },
  {
   "cell_type": "code",
   "execution_count": 12,
   "id": "fe8747eb",
   "metadata": {},
   "outputs": [],
   "source": [
    "D = np.linalg.inv(B)"
   ]
  },
  {
   "cell_type": "code",
   "execution_count": 13,
   "id": "1db251de",
   "metadata": {},
   "outputs": [
    {
     "data": {
      "text/plain": [
       "array([[ 0.46153846, -0.38461538],\n",
       "       [-0.07692308,  0.23076923]])"
      ]
     },
     "execution_count": 13,
     "metadata": {},
     "output_type": "execute_result"
    }
   ],
   "source": [
    "D"
   ]
  },
  {
   "cell_type": "markdown",
   "id": "26b82d37",
   "metadata": {},
   "source": [
    "### 7. Transpose D"
   ]
  },
  {
   "cell_type": "code",
   "execution_count": 15,
   "id": "bb2355ad",
   "metadata": {},
   "outputs": [],
   "source": [
    "transpose_matriks = np.transpose(D)"
   ]
  },
  {
   "cell_type": "code",
   "execution_count": 17,
   "id": "e1659384",
   "metadata": {},
   "outputs": [
    {
     "data": {
      "text/plain": [
       "array([[ 0.46153846, -0.07692308],\n",
       "       [-0.38461538,  0.23076923]])"
      ]
     },
     "execution_count": 17,
     "metadata": {},
     "output_type": "execute_result"
    }
   ],
   "source": [
    "transpose_matriks"
   ]
  },
  {
   "cell_type": "markdown",
   "id": "0211fecc",
   "metadata": {},
   "source": [
    "### 8. Nilai Eigen dan Vektor Eigen dari A dan B"
   ]
  },
  {
   "cell_type": "code",
   "execution_count": 18,
   "id": "ab660f7a",
   "metadata": {},
   "outputs": [],
   "source": [
    "eig_val, eig_vecs = np.linalg.eig(A)"
   ]
  },
  {
   "cell_type": "code",
   "execution_count": 20,
   "id": "1554a40f",
   "metadata": {},
   "outputs": [
    {
     "data": {
      "text/plain": [
       "array([-0.62347538,  9.62347538])"
      ]
     },
     "execution_count": 20,
     "metadata": {},
     "output_type": "execute_result"
    }
   ],
   "source": [
    "eig_val"
   ]
  },
  {
   "cell_type": "code",
   "execution_count": 21,
   "id": "b8195d6c",
   "metadata": {},
   "outputs": [
    {
     "data": {
      "text/plain": [
       "array([[-0.77640358, -0.22592838],\n",
       "       [ 0.63023605, -0.97414391]])"
      ]
     },
     "execution_count": 21,
     "metadata": {},
     "output_type": "execute_result"
    }
   ],
   "source": [
    "eig_vecs"
   ]
  },
  {
   "cell_type": "code",
   "execution_count": 22,
   "id": "61009441",
   "metadata": {},
   "outputs": [],
   "source": [
    "eig_val, eig_vecs = np.linalg.eig(B)"
   ]
  },
  {
   "cell_type": "code",
   "execution_count": 23,
   "id": "045f3fc6",
   "metadata": {},
   "outputs": [
    {
     "data": {
      "text/plain": [
       "array([1.8074176, 7.1925824])"
      ]
     },
     "execution_count": 23,
     "metadata": {},
     "output_type": "execute_result"
    }
   ],
   "source": [
    "eig_val"
   ]
  },
  {
   "cell_type": "code",
   "execution_count": 24,
   "id": "6ee9cdb9",
   "metadata": {},
   "outputs": [
    {
     "data": {
      "text/plain": [
       "array([[-0.97271381, -0.76626443],\n",
       "       [ 0.23200828, -0.64252535]])"
      ]
     },
     "execution_count": 24,
     "metadata": {},
     "output_type": "execute_result"
    }
   ],
   "source": [
    "eig_vecs"
   ]
  }
 ],
 "metadata": {
  "kernelspec": {
   "display_name": "Python 3",
   "language": "python",
   "name": "python3"
  },
  "language_info": {
   "codemirror_mode": {
    "name": "ipython",
    "version": 3
   },
   "file_extension": ".py",
   "mimetype": "text/x-python",
   "name": "python",
   "nbconvert_exporter": "python",
   "pygments_lexer": "ipython3",
   "version": "3.8.8"
  }
 },
 "nbformat": 4,
 "nbformat_minor": 5
}
