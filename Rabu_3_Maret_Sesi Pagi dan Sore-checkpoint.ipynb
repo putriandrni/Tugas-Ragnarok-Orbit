{
 "cells": [
  {
   "cell_type": "markdown",
   "id": "bd1885f2",
   "metadata": {},
   "source": [
    "# Sesi Pagi"
   ]
  },
  {
   "cell_type": "markdown",
   "id": "a33b5f04",
   "metadata": {},
   "source": [
    "# No. 1"
   ]
  },
  {
   "cell_type": "code",
   "execution_count": 12,
   "id": "1982f1cf",
   "metadata": {},
   "outputs": [],
   "source": [
    "a = False\n",
    "b = True\n",
    "c = False"
   ]
  },
  {
   "cell_type": "code",
   "execution_count": 29,
   "id": "c8832a3e",
   "metadata": {},
   "outputs": [
    {
     "name": "stdout",
     "output_type": "stream",
     "text": [
      "False\n"
     ]
    }
   ],
   "source": [
    "print(b and c)"
   ]
  },
  {
   "cell_type": "code",
   "execution_count": 30,
   "id": "648d4013",
   "metadata": {},
   "outputs": [
    {
     "name": "stdout",
     "output_type": "stream",
     "text": [
      "True\n"
     ]
    }
   ],
   "source": [
    "print(b or c)"
   ]
  },
  {
   "cell_type": "code",
   "execution_count": 31,
   "id": "b0423948",
   "metadata": {
    "scrolled": true
   },
   "outputs": [
    {
     "name": "stdout",
     "output_type": "stream",
     "text": [
      "True\n"
     ]
    }
   ],
   "source": [
    "print(not a and b)"
   ]
  },
  {
   "cell_type": "code",
   "execution_count": 33,
   "id": "e8259523",
   "metadata": {},
   "outputs": [
    {
     "name": "stdout",
     "output_type": "stream",
     "text": [
      "True\n"
     ]
    }
   ],
   "source": [
    "print((a and b)or not c)"
   ]
  },
  {
   "cell_type": "code",
   "execution_count": 37,
   "id": "5c290dc9",
   "metadata": {},
   "outputs": [
    {
     "name": "stdout",
     "output_type": "stream",
     "text": [
      "False\n"
     ]
    }
   ],
   "source": [
    "print((not b) and (not (a or c)))"
   ]
  },
  {
   "cell_type": "markdown",
   "id": "b9038a55",
   "metadata": {},
   "source": [
    "# No. 2"
   ]
  },
  {
   "cell_type": "code",
   "execution_count": 40,
   "id": "070ff30d",
   "metadata": {
    "scrolled": true
   },
   "outputs": [
    {
     "name": "stdout",
     "output_type": "stream",
     "text": [
      "Hello!\n",
      "Enter something: Hello Word\n",
      "You entered:  Hello Word\n"
     ]
    }
   ],
   "source": [
    "print(\"Hello!\")\n",
    "something = input('Enter something: ')\n",
    "print('You entered: ' , something)"
   ]
  },
  {
   "cell_type": "markdown",
   "id": "3e8e6d18",
   "metadata": {},
   "source": [
    "# No. 3"
   ]
  },
  {
   "cell_type": "code",
   "execution_count": 3,
   "id": "84c9c82d",
   "metadata": {},
   "outputs": [
    {
     "name": "stdout",
     "output_type": "stream",
     "text": [
      "Hello!\n",
      "Enter something: hello\n",
      "You entered:  hello\n",
      "Hello for you too!\n"
     ]
    }
   ],
   "source": [
    "print('Hello!')\n",
    "something = input(\"Enter something: \")\n",
    "print('You entered: ' , something)\n",
    "\n",
    "if something == 'hello':\n",
    "    print (\"Hello for you too!\")\n",
    "elif something == 'hi':\n",
    "    print(\"Hi there!\")\n",
    "else:\n",
    "    print(\"I dont know what\" + something + \"means.\")"
   ]
  },
  {
   "cell_type": "markdown",
   "id": "1816ccfd",
   "metadata": {},
   "source": [
    "# No. 4"
   ]
  },
  {
   "cell_type": "code",
   "execution_count": 1,
   "id": "b24dbb03",
   "metadata": {},
   "outputs": [
    {
     "name": "stdout",
     "output_type": "stream",
     "text": [
      "Halo Hai\n",
      "Halo Hai\n",
      "Halo Hai\n",
      "Halo Hai\n",
      "Halo Hai\n",
      "Halo Hai\n",
      "Halo Hai\n",
      "Halo Hai\n",
      "Halo Hai\n",
      "Halo Hai\n",
      "Halo Hai\n",
      "Halo Hai\n",
      "Halo Hai\n",
      "Halo Hai\n",
      "Halo Hai\n",
      "Halo Hai\n",
      "Halo Hai\n",
      "Halo Hai\n",
      "Halo Hai\n",
      "Halo Hai\n",
      "Halo Hai\n",
      "Halo Hai\n",
      "Halo Hai\n",
      "Halo Hai\n",
      "Halo Hai\n",
      "Halo Hai\n",
      "Halo Hai\n",
      "Halo Hai\n",
      "Halo Hai\n",
      "Halo Hai\n",
      "Halo Hai\n",
      "Halo Hai\n",
      "Halo Hai\n",
      "Halo Hai\n",
      "Halo Hai\n",
      "Halo Hai\n",
      "Halo Hai\n",
      "Halo Hai\n",
      "Halo Hai\n",
      "Halo Hai\n",
      "Halo Hai\n",
      "Halo Hai\n",
      "Halo Hai\n",
      "Halo Hai\n",
      "Halo Hai\n",
      "Halo Hai\n",
      "Halo Hai\n",
      "Halo Hai\n",
      "Halo Hai\n",
      "Halo Hai\n",
      "Halo Hai\n",
      "Halo Hai\n",
      "Halo Hai\n",
      "Halo Hai\n",
      "Halo Hai\n",
      "Halo Hai\n",
      "Halo Hai\n",
      "Halo Hai\n",
      "Halo Hai\n",
      "Halo Hai\n",
      "Halo Hai\n",
      "Halo Hai\n",
      "Halo Hai\n",
      "Halo Hai\n",
      "Halo Hai\n",
      "Halo Hai\n",
      "Halo Hai\n",
      "Halo Hai\n",
      "Halo Hai\n",
      "Halo Hai\n",
      "Halo Hai\n",
      "Halo Hai\n",
      "Halo Hai\n",
      "Halo Hai\n",
      "Halo Hai\n",
      "Halo Hai\n",
      "Halo Hai\n",
      "Halo Hai\n",
      "Halo Hai\n",
      "Halo Hai\n",
      "Halo Hai\n",
      "Halo Hai\n",
      "Halo Hai\n",
      "Halo Hai\n",
      "Halo Hai\n",
      "Halo Hai\n",
      "Halo Hai\n",
      "Halo Hai\n",
      "Halo Hai\n",
      "Halo Hai\n",
      "Halo Hai\n",
      "Halo Hai\n",
      "Halo Hai\n",
      "Halo Hai\n",
      "Halo Hai\n",
      "Halo Hai\n",
      "Halo Hai\n",
      "Halo Hai\n",
      "Halo Hai\n",
      "Halo Hai\n"
     ]
    }
   ],
   "source": [
    "i = 1\n",
    "while i <= 100:\n",
    "  print(\"Halo\" + \" \" + \"Hai\")\n",
    "  i += 1"
   ]
  },
  {
   "cell_type": "markdown",
   "id": "900a01d3",
   "metadata": {},
   "source": [
    "# No.5"
   ]
  },
  {
   "cell_type": "markdown",
   "id": "52609817",
   "metadata": {},
   "source": [
    "Pemain 1 + Pemain 2\n",
    "1. Batu + Gunting = Pemain 1 Menang\n",
    "2. Batu + Kertas = Pemain 2 Menang\n",
    "3. Batu + Batu = Seri\n",
    "4. Gunting + Batu = Pemain 2 Menang\n",
    "5. Gunting + Kertas = Pemain 1 Menang\n",
    "6. Gunting + Gunting = Seri\n",
    "7. Kertas + Batu = Pemain 1 Menang\n",
    "8. Kertas + Gunting = Pemain 2 Menang\n",
    "9. Kertas + Kertas = Seri"
   ]
  },
  {
   "cell_type": "code",
   "execution_count": 2,
   "id": "5766ae75",
   "metadata": {},
   "outputs": [
    {
     "name": "stdout",
     "output_type": "stream",
     "text": [
      "Game\n",
      "Masukkan: gunting\n",
      "You entered: gunting\n",
      "Masukkan: kertas\n",
      "You entered: kertas\n",
      "\t\\ Gunting VS Kertas\n",
      "\n",
      "\t\\ Pemain 1 Menang !\n"
     ]
    }
   ],
   "source": [
    "print(\"Game\")\n",
    "something1 = input(\"Masukkan: \")\n",
    "print(\"You entered: \" + something1)\n",
    "\n",
    "something2 = input(\"Masukkan: \")\n",
    "print(\"You entered: \" + something2)\n",
    "\n",
    "if(something1 == 'batu' and something2 == 'gunting'):\n",
    "    print(\"\\t\\ Batu VS Gunting\\n\")\n",
    "    print(\"\\t\\ Pemain 1 Menang !\")\n",
    "elif(something1 == 'batu' and something2 == 'kertas'):\n",
    "    print(\"\\t\\ Batu VS Kertas\\n\")\n",
    "    print(\"\\t\\ Pemain 2 Menang !\")\n",
    "elif(something1 == 'batu' and something2 == 'batu'):\n",
    "    print(\"\\t\\ Batu VS Batu\\n\")\n",
    "    print(\"\\t\\ Seri\")\n",
    "elif(something1 == 'gunting' and something2 == 'batu'):\n",
    "    print(\"\\t\\ Gunting VS Batu\\n\")\n",
    "    print(\"\\t\\ Pemain 2 Menang !\")\n",
    "elif(something1 == 'gunting'and something2 == 'kertas'):\n",
    "    print(\"\\t\\ Gunting VS Kertas\\n\")\n",
    "    print(\"\\t\\ Pemain 1 Menang !\")\n",
    "elif(something1 == 'gunting'and something2 == 'gunting'):\n",
    "    print(\"\\t\\ Gunting VS Gunting\\n\")\n",
    "    print(\"\\t\\ Seri\")\n",
    "elif(something1 == 'kertas'and something2 == 'batu'):\n",
    "    print(\"\\t\\ Kertas VS Batu\\n\")\n",
    "    print(\"\\t\\ Pemain 2 Menang !\")\n",
    "elif(something1 == 'kertas'and something2 == 'gunting'):\n",
    "    print(\"\\t\\ Kertas VS Gunting\\n\")\n",
    "    print(\"\\t\\ Pemain 2 Menang !\")\n",
    "else:\n",
    "    print(\"\\t\\ Kertas VS Kertas\\n\")\n",
    "    print(\"\\t\\ Seri\")"
   ]
  },
  {
   "cell_type": "markdown",
   "id": "5a97ada0",
   "metadata": {},
   "source": [
    "# No. 6"
   ]
  },
  {
   "cell_type": "code",
   "execution_count": 1,
   "id": "c0ea4dee",
   "metadata": {
    "scrolled": false
   },
   "outputs": [
    {
     "name": "stdout",
     "output_type": "stream",
     "text": [
      "Type in your password: hello\n",
      "Type in your password: word\n",
      "Type in your password: berhenti\n",
      "Access granted!\n"
     ]
    }
   ],
   "source": [
    "userPassword = ''\n",
    "\n",
    "while userPassword != 'berhenti':\n",
    "    userPassword = input('Type in your password: ')\n",
    "\n",
    "print('Access granted!')"
   ]
  },
  {
   "cell_type": "markdown",
   "id": "5395d006",
   "metadata": {},
   "source": [
    "# No.7"
   ]
  },
  {
   "cell_type": "code",
   "execution_count": 7,
   "id": "eb041762",
   "metadata": {},
   "outputs": [
    {
     "name": "stdout",
     "output_type": "stream",
     "text": [
      "Daftar Menu: \n",
      "1. Donat: Rp 1.250\n",
      "2. Bakwan: Rp 1.000\n",
      "3. Onde-Onde: Rp 800\n",
      "4. Lemper: Rp 1250\n",
      "5. Risol: Rp 1.500\n",
      "\n",
      "Masukkan pilihan menu = bakwan\n",
      "Masukkan jumlah pesanan = 10\n",
      "\n",
      "Kamu memesan bakwan dengan harga Rp 10000 , Terimakasih sudah berbelanja!\n",
      "\n",
      "apakah anda ingin order kembali Y/Cukup =cukup\n",
      "Terimakasih sudah berbelanja jajanan pasar kami!\n"
     ]
    }
   ],
   "source": [
    "pilihan = \"y\"\n",
    "while pilihan == \"y\":\n",
    "    \n",
    "    print(\"Daftar Menu: \")\n",
    "    print(\"1. Donat: Rp 1.250\")\n",
    "    print(\"2. Bakwan: Rp 1.000\")\n",
    "    print(\"3. Onde-Onde: Rp 800\")\n",
    "    print(\"4. Lemper: Rp 1250\")\n",
    "    print(\"5. Risol: Rp 1.500\")\n",
    "\n",
    "    print(\"\")\n",
    "    order = str(input(\"Masukkan pilihan menu = \"))\n",
    "    jumlah = int(input(\"Masukkan jumlah pesanan = \"))\n",
    "    \n",
    "    if order == \"donat\":\n",
    "        harga = (1250 * jumlah)\n",
    "    elif order == \"bakwan\":\n",
    "        harga = (1000 * jumlah)\n",
    "    elif order == \"onde onde\":\n",
    "        harga = (800 * jumlah)\n",
    "    elif order == \"lemper\":\n",
    "        harga = (1250 * jumlah)\n",
    "    elif order == \"risol\":\n",
    "        harga = (1500 * jumlah)\n",
    "    else:\n",
    "        pilihan = input(\"menu tidak tersedia, silahkan masukkan abjad menu yang tersedia silahkan ulangi kembali Y/N =\")\n",
    " \n",
    "    print(\"\")\n",
    "    print(\"Kamu memesan \" + order + \" dengan harga Rp \" + str(harga) + \" , Terimakasih sudah berbelanja!\")\n",
    "    \n",
    "    print(\"\")\n",
    "    pilihan=input(\"apakah anda ingin order kembali Y/Cukup =\")\n",
    "    if pilihan == \"cukup\":\n",
    "        print(\"Terimakasih sudah berbelanja jajanan pasar kami!\")"
   ]
  },
  {
   "cell_type": "markdown",
   "id": "2ed977da",
   "metadata": {},
   "source": [
    "# No. 8"
   ]
  },
  {
   "cell_type": "code",
   "execution_count": 17,
   "id": "91da1e5d",
   "metadata": {},
   "outputs": [
    {
     "name": "stdout",
     "output_type": "stream",
     "text": [
      "Daftar Menu: \n",
      "1. Donat: Rp 1.250\n",
      "2. Bakwan: Rp 1.000\n",
      "3. Onde-Onde: Rp 800\n",
      "4. Lemper: Rp 1250\n",
      "5. Risol: Rp 1.500\n",
      "\n",
      "Masukkan pilihan menu = bakwan\n",
      "Masukkan jumlah pesanan = 10\n",
      "\n",
      "Kamu memesan bakwan dengan total harga Rp 8000 , Terimakasih sudah berbelanja!\n",
      "\n",
      "apakah anda ingin order kembali Y/Cukup =cukup\n",
      "Terimakasih sudah berbelanja jajanan pasar kami!\n"
     ]
    }
   ],
   "source": [
    "pilihan = \"y\"\n",
    "while pilihan == \"y\":\n",
    "    \n",
    "    print(\"Daftar Menu: \")\n",
    "    print(\"1. Donat: Rp 1.250\")\n",
    "    print(\"2. Bakwan: Rp 1.000\")\n",
    "    print(\"3. Onde-Onde: Rp 800\")\n",
    "    print(\"4. Lemper: Rp 1250\")\n",
    "    print(\"5. Risol: Rp 1.500\")\n",
    "\n",
    "    print(\"\")\n",
    "    order = str(input(\"Masukkan pilihan menu = \"))\n",
    "    jumlah = int(input(\"Masukkan jumlah pesanan = \"))\n",
    "    \n",
    "    if order == \"donat\":\n",
    "        harga = (1250 * jumlah)\n",
    "        if jumlah >= 5:\n",
    "            diskon = int(harga* 0.2)\n",
    "            totalharga=int(harga-diskon)\n",
    "        else:\n",
    "            diskon =(0)\n",
    "            totalharga=int(harga)\n",
    "    elif order == \"bakwan\":\n",
    "        harga = (1000 * jumlah)\n",
    "        if jumlah >= 5:\n",
    "            diskon = int(harga* 0.2)\n",
    "            totalharga=int(harga-diskon)\n",
    "        else:\n",
    "            diskon =(0)\n",
    "            totalharga=int(harga)\n",
    "    elif order == \"onde onde\":\n",
    "        harga = (800 * jumlah)\n",
    "        if jumlah >= 5:\n",
    "            diskon = int(harga* 0.2)\n",
    "            totalharga=int(harga-diskon)\n",
    "        else:\n",
    "            diskon =(0)\n",
    "            totalharga=int(harga)\n",
    "    elif order == \"lemper\":\n",
    "        harga = (1250 * jumlah)\n",
    "        if jumlah >= 5:\n",
    "            diskon = int(harga* 0.2)\n",
    "            totalharga=int(harga-diskon)\n",
    "        else:\n",
    "            diskon =(0)\n",
    "            totalharga=int(harga)\n",
    "    elif order == \"risol\":\n",
    "        harga = (1500 * jumlah)\n",
    "        if jumlah >= 5:\n",
    "            diskon = int(harga* 0.2)\n",
    "            totalharga=int(harga-diskon)\n",
    "        else:\n",
    "            diskon =(0)\n",
    "            totalharga=int(harga)\n",
    "    else:\n",
    "        pilihan = input(\"menu tidak tersedia, silahkan masukkan abjad menu yang tersedia silahkan ulangi kembali Y/N =\")\n",
    " \n",
    "    print(\"\")\n",
    "    print(\"Kamu memesan \" + order + \" dengan total harga Rp \" + str(totalharga) + \" , Terimakasih sudah berbelanja!\")\n",
    "    \n",
    "    print(\"\")\n",
    "    pilihan=input(\"apakah anda ingin order kembali Y/Cukup =\")\n",
    "    if pilihan == \"cukup\":\n",
    "        print(\"Terimakasih sudah berbelanja jajanan pasar kami!\")"
   ]
  },
  {
   "cell_type": "markdown",
   "id": "698bc84a",
   "metadata": {},
   "source": [
    "# Sesi Sore"
   ]
  },
  {
   "cell_type": "markdown",
   "id": "03808be7",
   "metadata": {},
   "source": [
    "# No. 1"
   ]
  },
  {
   "cell_type": "code",
   "execution_count": 5,
   "id": "d0d60913",
   "metadata": {
    "scrolled": true
   },
   "outputs": [
    {
     "name": "stdout",
     "output_type": "stream",
     "text": [
      "True\n",
      "False\n"
     ]
    }
   ],
   "source": [
    "def cek_bagi(m, n):\n",
    "    \n",
    "    if m % n == 0:\n",
    "      return True\n",
    "    else:\n",
    "      return False\n",
    "\n",
    "print(cek_bagi(6,2))\n",
    "print(cek_bagi(5,2))"
   ]
  },
  {
   "cell_type": "markdown",
   "id": "400d5f83",
   "metadata": {},
   "source": [
    "# No. 2"
   ]
  },
  {
   "cell_type": "code",
   "execution_count": 21,
   "id": "3af48fb8",
   "metadata": {
    "scrolled": true
   },
   "outputs": [
    {
     "name": "stdout",
     "output_type": "stream",
     "text": [
      "Daftar Menu: \n",
      "1. Soup and Salad\n",
      "2. Pasta with Meat Sauce\n",
      "3. Chef's Special\n",
      "\n",
      "Which number would you like to order = 1\n",
      "Soup and Salad coming right up!\n"
     ]
    }
   ],
   "source": [
    "print(\"Daftar Menu: \")\n",
    "print(\"1. Soup and Salad\")\n",
    "print(\"2. Pasta with Meat Sauce\")\n",
    "print(\"3. Chef's Special\")\n",
    "\n",
    "print(\"\")\n",
    "order = int(input(\"Which number would you like to order = \"))\n",
    "    \n",
    "if order == 1:\n",
    "    print(\"Soup and Salad coming right up!\")\n",
    "elif order == 2:\n",
    "    print(\"Pasta with Meat Sauce coming right up!\")\n",
    "elif order == 3:\n",
    "    print(\"Chef's Special coming right up!\")\n",
    "else:\n",
    "    print(\"Sorry, that is not a valid choice\")"
   ]
  },
  {
   "cell_type": "code",
   "execution_count": 20,
   "id": "2a67d7c9",
   "metadata": {},
   "outputs": [
    {
     "name": "stdout",
     "output_type": "stream",
     "text": [
      "Daftar Menu: \n",
      "1. Soup and Salad\n",
      "2. Pasta with Meat Sauce\n",
      "3. Chef's Special\n",
      "\n",
      "Which number would you like to order = 4\n",
      "Sorry, that is not a valid choice\n"
     ]
    }
   ],
   "source": [
    "print(\"Daftar Menu: \")\n",
    "print(\"1. Soup and Salad\")\n",
    "print(\"2. Pasta with Meat Sauce\")\n",
    "print(\"3. Chef's Special\")\n",
    "\n",
    "print(\"\")\n",
    "order = int(input(\"Which number would you like to order = \"))\n",
    "    \n",
    "if order == 1:\n",
    "    print(\"Soup and Salad coming right up!\")\n",
    "elif order == 2:\n",
    "    print(\"Pasta with Meat Sauce coming right up!\")\n",
    "elif order == 3:\n",
    "    print(\"Chef's Special coming right up!\")\n",
    "else:\n",
    "    print(\"Sorry, that is not a valid choice\")"
   ]
  },
  {
   "cell_type": "markdown",
   "id": "49a4a9ac",
   "metadata": {},
   "source": [
    "# No. 3 "
   ]
  },
  {
   "cell_type": "code",
   "execution_count": 4,
   "id": "5c63e1db",
   "metadata": {},
   "outputs": [
    {
     "name": "stdout",
     "output_type": "stream",
     "text": [
      "Masukkan angka: 4\n",
      "False\n"
     ]
    }
   ],
   "source": [
    "def rand_divis_3():\n",
    "\n",
    "    m = int(input(\"Masukkan angka: \"))\n",
    "    if m % 3 == 0:\n",
    "        return True\n",
    "    else:\n",
    "        return False\n",
    "    \n",
    "print(rand_divis_3())"
   ]
  },
  {
   "cell_type": "markdown",
   "id": "a450554c",
   "metadata": {},
   "source": [
    "# No.4 "
   ]
  },
  {
   "cell_type": "code",
   "execution_count": 32,
   "id": "f1ebde7c",
   "metadata": {
    "scrolled": true
   },
   "outputs": [
    {
     "name": "stdout",
     "output_type": "stream",
     "text": [
      "True\n",
      "False\n"
     ]
    }
   ],
   "source": [
    "def check_tidak_sama(a,b):\n",
    "\n",
    "    if int(a) == int(b):\n",
    "        return False\n",
    "    else:\n",
    "        return True\n",
    "\n",
    "print(check_tidak_sama(1,3))\n",
    "print(check_tidak_sama(4,4))"
   ]
  },
  {
   "cell_type": "markdown",
   "id": "a6c4ab85",
   "metadata": {},
   "source": [
    "# No. 5"
   ]
  },
  {
   "cell_type": "code",
   "execution_count": 28,
   "id": "1b060556",
   "metadata": {
    "scrolled": false
   },
   "outputs": [
    {
     "name": "stdout",
     "output_type": "stream",
     "text": [
      "Enter your name: Putri\n",
      "Your name is: Putri\n"
     ]
    }
   ],
   "source": [
    "def ask_name():\n",
    "    name = input(\"Enter your name: \")\n",
    "    print (\"Your name is: \" + name)\n",
    "\n",
    "ask_name()"
   ]
  }
 ],
 "metadata": {
  "kernelspec": {
   "display_name": "Python 3",
   "language": "python",
   "name": "python3"
  },
  "language_info": {
   "codemirror_mode": {
    "name": "ipython",
    "version": 3
   },
   "file_extension": ".py",
   "mimetype": "text/x-python",
   "name": "python",
   "nbconvert_exporter": "python",
   "pygments_lexer": "ipython3",
   "version": "3.8.8"
  }
 },
 "nbformat": 4,
 "nbformat_minor": 5
}
