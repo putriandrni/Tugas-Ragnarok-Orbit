{
 "cells": [
  {
   "cell_type": "markdown",
   "id": "16b2ba51",
   "metadata": {},
   "source": [
    "#### Apa itu OOP dan cobalah buat 2 implementasi konsep OOP menggunakan python!"
   ]
  },
  {
   "cell_type": "markdown",
   "id": "02002455",
   "metadata": {},
   "source": [
    "OOP merupakan suatu metode pemrogaraman yang berorientasi objek/paradigma pemrograman yang merepresentasikan objek seperti objek di sekitar kita dalam bentuk kode program."
   ]
  },
  {
   "cell_type": "code",
   "execution_count": 1,
   "id": "fece5065",
   "metadata": {},
   "outputs": [
    {
     "name": "stdout",
     "output_type": "stream",
     "text": [
      "Halo, apa kabar?\n"
     ]
    }
   ],
   "source": [
    "# Deklarasi Object (Class)\n",
    "\n",
    "class Orang(object):\n",
    "    #method\n",
    "    def menyapa(self):\n",
    "        print(\"Halo, apa kabar?\")\n",
    "\n",
    "# Memanggil method\n",
    "org1 = Orang()\n",
    "org1.menyapa()   "
   ]
  },
  {
   "cell_type": "markdown",
   "id": "e6cee9dc",
   "metadata": {},
   "source": [
    "### Encapsulation"
   ]
  },
  {
   "cell_type": "code",
   "execution_count": 2,
   "id": "a3e58a0a",
   "metadata": {},
   "outputs": [
    {
     "name": "stdout",
     "output_type": "stream",
     "text": [
      "nama: Karina, usia: 12, hobi: mendengarkan musik, bakat: menyanyi\n",
      "Halo, apa kabar?\n"
     ]
    }
   ],
   "source": [
    "nama = \"Karina\"\n",
    "usia = 12\n",
    "hobi = \"mendengarkan musik\"\n",
    "bakat = \"menyanyi\"\n",
    "\n",
    "def menyapa():\n",
    "    print(\"Halo, apa kabar?\")\n",
    "\n",
    "def info_orang(nama, usia, hobi, bakat):\n",
    "    print(f\"nama: {nama}, usia: {usia}, hobi: {hobi}, bakat: {bakat}\") \n",
    "\n",
    "info_orang(nama, usia, hobi, bakat)\n",
    "menyapa()"
   ]
  },
  {
   "cell_type": "code",
   "execution_count": 3,
   "id": "7816b3d5",
   "metadata": {},
   "outputs": [
    {
     "name": "stdout",
     "output_type": "stream",
     "text": [
      "nama: Karina, usia: 12, hobi: mendengarkan musik, bakat: menyanyi\n",
      "Halo, apa kabar?Halo, apa kabar?\n"
     ]
    }
   ],
   "source": [
    "class Orang(object):\n",
    "    \n",
    "    nama_orang = \" \"\n",
    "    def __init__(self, input_nama, input_usia, input_hobi, input_bakat):\n",
    "        self.nama = input_nama\n",
    "        self.usia = input_usia\n",
    "        self.hobi = input_hobi\n",
    "        self.bakat = input_bakat\n",
    "\n",
    "    def menyapa(self):\n",
    "        print(\"Halo, apa kabar?Halo, apa kabar?\")\n",
    "\n",
    "    def info_orang(self):\n",
    "        print(f\"nama: {self.nama}, usia: {self.usia}, hobi: {self.hobi}, bakat: {self.bakat}\")\n",
    "\n",
    "\n",
    "org1 = Orang(\"Karina\", 12, \"mendengarkan musik\", \"menyanyi\")\n",
    "\n",
    "org1.info_orang()\n",
    "org1.menyapa()"
   ]
  },
  {
   "cell_type": "markdown",
   "id": "3adb8f78",
   "metadata": {},
   "source": [
    "### Inheritance "
   ]
  },
  {
   "cell_type": "code",
   "execution_count": 4,
   "id": "0f127a45",
   "metadata": {},
   "outputs": [
    {
     "name": "stdout",
     "output_type": "stream",
     "text": [
      "nama: Karina, usia: 12, hobi: mendengarkan musik, bakat: menyanyi\n"
     ]
    }
   ],
   "source": [
    "class Manusia(object):\n",
    "    def __init__(self, nama, usia, hobi, bakat):\n",
    "        self.nama = nama\n",
    "        self.usia = usia\n",
    "        self.hobi = hobi\n",
    "        self.bakat = bakat\n",
    "\n",
    "    def menyapa(self, durasi):\n",
    "        for x in range(durasi):\n",
    "            print(\"Halo, apa kabar?\")\n",
    "\n",
    "    def info(self):\n",
    "        print(f\"nama: {self.nama}, usia: {self.usia}, hobi: {self.hobi}, bakat: {self.bakat}\")\n",
    "\n",
    "\n",
    "org1 = Manusia(\"Karina\", 12, \"mendengarkan musik\", \"menyanyi\")\n",
    "org1.info()"
   ]
  },
  {
   "cell_type": "code",
   "execution_count": 5,
   "id": "182b7f22",
   "metadata": {},
   "outputs": [
    {
     "name": "stdout",
     "output_type": "stream",
     "text": [
      "nama: Irfan, usia: 17, hobi: bermain bola, bakat: olahraga\n",
      "sekolah: SMA 2, domisili: Jakarta\n",
      "Halo, apa kabar?\n",
      "Halo, apa kabar?\n",
      "Halo, apa kabar?\n",
      "Hai, senang bertemu!\n"
     ]
    }
   ],
   "source": [
    "class Pelajar(Manusia):\n",
    "    def __init__(self, nama, usia, hobi, bakat, sekolah, domisili):\n",
    "        super().__init__(nama, usia, hobi, bakat)\n",
    "        self.sekolah = sekolah\n",
    "        self.domisili = domisili\n",
    "\n",
    "    def sapa(self):\n",
    "        super().menyapa(3)\n",
    "        print(\"Hai, senang bertemu!\")\n",
    "\n",
    "    def info_pelajar(self):\n",
    "        super().info()\n",
    "        print(f\"sekolah: {self.sekolah}, domisili: {self.domisili}\")\n",
    "\n",
    "student1 = Pelajar(\"Irfan\", 17, \"bermain bola\", \"olahraga\", \"SMA 2\", \"Jakarta\")\n",
    "\n",
    "student1.info_pelajar()\n",
    "student1.sapa()"
   ]
  },
  {
   "cell_type": "markdown",
   "id": "074539dd",
   "metadata": {},
   "source": [
    "### Sebutkan dan jelaskan 2 jenis modules yang ada di python"
   ]
  },
  {
   "cell_type": "markdown",
   "id": "9ab6bc1e",
   "metadata": {},
   "source": [
    "1. Module Math: berisi daftar fungsi untuk melakukan perhitungan-perhitungan matematika\n",
    "2. Module Time: Membantu untuk membuat/mengatur tanggal dan waktu"
   ]
  },
  {
   "cell_type": "markdown",
   "id": "5827eca3",
   "metadata": {},
   "source": [
    "### Hitunglah hasil dari module math"
   ]
  },
  {
   "cell_type": "markdown",
   "id": "1b0437e2",
   "metadata": {},
   "source": [
    "### Apa itu custom exception handling dan berikan 1 contoh implementasinya!"
   ]
  },
  {
   "cell_type": "markdown",
   "id": "0d9ad067",
   "metadata": {},
   "source": [
    "Exception dapat di-hadle menggunakan try/except. Jika terjadi exception, maka block except akan dieksekusi dan blok try tidak dieksekusi. Begitu juga sebaliknya, jika tidak terjadi exception, maka hanya blok try yang akan dieksekusi. "
   ]
  },
  {
   "cell_type": "code",
   "execution_count": 1,
   "id": "91a5eefb",
   "metadata": {},
   "outputs": [
    {
     "name": "stdout",
     "output_type": "stream",
     "text": [
      "Buah tidak ditemukan\n"
     ]
    }
   ],
   "source": [
    "try:\n",
    "    buah != \"semangka\"\n",
    "    print(buah + \" enak\")\n",
    "    \n",
    "except:\n",
    "    print(\"Buah tidak ditemukan\")"
   ]
  },
  {
   "cell_type": "markdown",
   "id": "54e37f08",
   "metadata": {},
   "source": [
    "### Apa perbedaan dari structured dan unstructured data dan sebutkan 3 sumber data! "
   ]
  },
  {
   "cell_type": "markdown",
   "id": "133cd10b",
   "metadata": {},
   "source": [
    "Data terstruktur merupakan data yang sangat terorganisir dan mudah dicari dengen kueri/algoritma. Data tidak terstruktur yaitu tidak ada struktur yang dapat diidentifikasi untuk jenis data ini. 3 sumber data yaitu sensor, interaksi sosial, transaksi bisnis."
   ]
  },
  {
   "cell_type": "markdown",
   "id": "52e800e9",
   "metadata": {},
   "source": [
    "### Jelaskan perbedaan AI, Machine Learning, dan Deep Learning "
   ]
  },
  {
   "cell_type": "markdown",
   "id": "7a29f5d3",
   "metadata": {},
   "source": [
    "* AI: algoritma yang dipakai untuk membangun kecerdasan\n",
    "* Machine Learning: algoritma yang menggunakan data untuk membangun kecerdasan\n",
    "* Deep Learning: Automated feature engineering"
   ]
  },
  {
   "cell_type": "markdown",
   "id": "f4022958",
   "metadata": {},
   "source": [
    "### Apa perbedaan Machine Learning dengan Tradisional Software"
   ]
  },
  {
   "cell_type": "markdown",
   "id": "08b8dd76",
   "metadata": {},
   "source": [
    "* Traditional programming: data + aturan = jawaban\n",
    "* Machine Learning: data + jawaban = aturan"
   ]
  },
  {
   "cell_type": "markdown",
   "id": "ba2615c2",
   "metadata": {},
   "source": [
    "### Sebutkan 3 contoh aplikasi Machine Learning di sektor smart city dan agriculture "
   ]
  },
  {
   "cell_type": "markdown",
   "id": "d2302245",
   "metadata": {},
   "source": [
    "* Pendeteksi wajah seseorang\n",
    "* Pendeteksi orang yang terinfeksi virus\n",
    "* Self Driving Car"
   ]
  },
  {
   "cell_type": "markdown",
   "id": "f4ec7f7c",
   "metadata": {},
   "source": [
    "### Mengapa ilmu matematika penting ketika mempelajari AI?"
   ]
  },
  {
   "cell_type": "markdown",
   "id": "d4891dcd",
   "metadata": {},
   "source": [
    "Hal yang menjadi dasar dari kecerdasan buatan yakni mempelajari algoritma dari data dan membuat prediksi pada data tanpa memprogram mesin tersebut secara eksplisit. Selain itu, pembelajaran mesin juga berdasarkan suatu ilmu yang lain, yaitu matematika."
   ]
  },
  {
   "cell_type": "markdown",
   "id": "1a4aefa6",
   "metadata": {},
   "source": [
    "### Jelaskan perbedaan vektor dan skalar"
   ]
  },
  {
   "cell_type": "markdown",
   "id": "c38f7ac5",
   "metadata": {},
   "source": [
    "* Vektor merupakan besaran yang memiliki nilai dan arah \n",
    "* Skalar merupakan konstanta/besaran yang memiliki nilai"
   ]
  },
  {
   "cell_type": "markdown",
   "id": "6e179533",
   "metadata": {},
   "source": [
    "### Apa perbedaan dari Jarak Euclidean dan Manhattan?"
   ]
  },
  {
   "cell_type": "markdown",
   "id": "202aa9e8",
   "metadata": {},
   "source": [
    "* Jarak euclidean untuk menghitung jarak\n",
    "* Jarak Manhattan digunakan pada NLP mirip dengan euclidean dan namun nilai bersifat mutlak"
   ]
  },
  {
   "cell_type": "markdown",
   "id": "caa6d05c",
   "metadata": {},
   "source": [
    "### Apa kegunaan matriks dalam ilmu matematika ketika menerapkan AI? "
   ]
  },
  {
   "cell_type": "markdown",
   "id": "ae34cf57",
   "metadata": {},
   "source": [
    "Pemanfaatan matriks pada bidang AI serta untuk pemrograman yang membutuhkan array dalam Ilmu Komputer. Selain itu, enkripsi data dapat dilakukan dengan menggunakan beragam operasi matriks."
   ]
  },
  {
   "cell_type": "markdown",
   "id": "f51f3a98",
   "metadata": {},
   "source": [
    "### Jelaskan perbedaan supervised Learning dan unsupervised Learning dan sebutkan 2 contohnya!"
   ]
  },
  {
   "cell_type": "markdown",
   "id": "63804be7",
   "metadata": {},
   "source": [
    "* Supervised Learning memiliki label data, co/ memprediksi harga rumah\n",
    "* Unsupervised Learning tidak memiliki label data, co/ segmentasi pelanggan"
   ]
  },
  {
   "cell_type": "markdown",
   "id": "95c7ac0a",
   "metadata": {},
   "source": [
    "### Sebutkan setiap tahan yang ada di Machine Learning cycle dan jelaskan!"
   ]
  },
  {
   "cell_type": "markdown",
   "id": "137ec158",
   "metadata": {},
   "source": [
    "* Problem Scoping: Keadaan awal masalah, the 4WS of problem scoping\n",
    "* Data Aquision: Serangkaian proses pengumpulan dan validasi data\n",
    "* Data Exploration: Untuk memahami tren, hubungan dan pola\n",
    "* Modelling: Representasi\n",
    "* Evaluation: Evaluasi dari model-model yang digunakan\n",
    "* Deployment: Pengembangan menggunakan model dan hasil evaluasi yang tepat"
   ]
  },
  {
   "cell_type": "markdown",
   "id": "aea81083",
   "metadata": {},
   "source": [
    "### Apa perbedaan regression dengan clustering "
   ]
  },
  {
   "cell_type": "markdown",
   "id": "6f8010ba",
   "metadata": {},
   "source": [
    "* Regresi merupakan salah satu metode untuk menentukan hubungan sebab-akibat antara variabel dengan variabel lainnya\n",
    "* Clustering adalah suatu metode pengelompokan data yang perlu kamu pahami"
   ]
  },
  {
   "cell_type": "markdown",
   "id": "be4b610a",
   "metadata": {},
   "source": [
    "### Apa itu algoritma Artificial Neural Netwok dan untuk apa fungsinya?"
   ]
  },
  {
   "cell_type": "markdown",
   "id": "eefce33c",
   "metadata": {},
   "source": [
    "Model penalaran yang didasarkan pada otak manusia. ANN terdiri dari sejumlah prosesor sangat sederhana dan saling berhubungan yang disebut neuron. Neuron yang terhubung dengan pembobotan (weight) melewati sinyal dari neuron satu ke neuron yang lain."
   ]
  }
 ],
 "metadata": {
  "kernelspec": {
   "display_name": "Python 3",
   "language": "python",
   "name": "python3"
  },
  "language_info": {
   "codemirror_mode": {
    "name": "ipython",
    "version": 3
   },
   "file_extension": ".py",
   "mimetype": "text/x-python",
   "name": "python",
   "nbconvert_exporter": "python",
   "pygments_lexer": "ipython3",
   "version": "3.8.8"
  }
 },
 "nbformat": 4,
 "nbformat_minor": 5
}
